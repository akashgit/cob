{
 "cells": [
  {
   "cell_type": "code",
   "execution_count": 52,
   "metadata": {
    "colab": {
     "base_uri": "https://localhost:8080/"
    },
    "id": "zdgemk5nHdbL",
    "outputId": "332d9159-5b7e-488d-cdf1-803b67f11603"
   },
   "outputs": [
    {
     "name": "stdout",
     "output_type": "stream",
     "text": [
      "1.15.0\n"
     ]
    }
   ],
   "source": [
    "import warnings\n",
    "warnings.filterwarnings('ignore')\n",
    "\n",
    "import tensorflow as tf\n",
    "# tf.keras.backend.set_floatx(\n",
    "#     'float32'\n",
    "# )\n",
    "import numpy as np\n",
    "import seaborn as sns; \n",
    "tfd = tf.contrib.distributions\n",
    "import imageio\n",
    "import glob\n",
    "import tensorflow_probability as tfp\n",
    "tfd = tfp.distributions\n",
    "from tqdm import tqdm_notebook as tqdm\n",
    "from scipy.stats import norm, uniform\n",
    "\n",
    "import matplotlib.pyplot as plt\n",
    "from mpl_toolkits.mplot3d import Axes3D\n",
    "slim = tf.contrib.slim\n",
    "from tqdm.notebook import tqdm\n",
    "\n",
    "print(tf.__version__)"
   ]
  },
  {
   "cell_type": "code",
   "execution_count": 53,
   "metadata": {
    "id": "boCNTMt4BEiY"
   },
   "outputs": [],
   "source": [
    "tol = 1e-35\n",
    "bs = 500\n",
    "K = 3\n",
    "do = 0.8\n",
    "\n",
    "def ratios_critic(x, prob = 1, reuse=False):\n",
    "    with tf.variable_scope('critic') as scope:\n",
    "      if reuse:\n",
    "        scope.reuse_variables()\n",
    "      x = tf.expand_dims(x,1)\n",
    "      h = slim.fully_connected(x, 20, activation_fn=tf.nn.softplus)\n",
    "      h = tf.nn.dropout(h,prob)\n",
    "      h = slim.fully_connected(h, 10, activation_fn=tf.nn.softplus)\n",
    "      h = tf.nn.dropout(h,prob)\n",
    "      log_d = slim.fully_connected(h, K, activation_fn=None)\n",
    "    return tf.squeeze(log_d)\n"
   ]
  },
  {
   "cell_type": "code",
   "execution_count": 89,
   "metadata": {
    "id": "lt5Ozzo0HrUj"
   },
   "outputs": [],
   "source": [
    "tf.reset_default_graph()\n",
    "tf.random.set_random_seed(40)\n",
    "\n",
    "mu_1 = 0.\n",
    "mu_2 = 4.\n",
    "mu_3 = 4.\n",
    "lam = tf.placeholder('float',1)\n",
    "p = tfd.Normal(loc=mu_1, scale=.1)\n",
    "q = tfd.Normal(loc=mu_2, scale=.1)\n",
    "base = tfp.distributions.Cauchy(loc=mu_3, scale=2.)\n",
    "\n",
    "\n",
    "samples = base.sample([bs]) \n",
    "p_samples = p.sample([bs]) \n",
    "q_samples = q.sample([bs])\n",
    "m_samples = samples\n",
    "# m_samples = samples + (p_samples+q_samples)/2.\n",
    "m_samples2 = m_samples# samples[bs:]\n",
    "\n",
    "#Ratio by log of prob evaluated at samples from base\n",
    "log_ratio_p_q = p.log_prob(m_samples) - q.log_prob(m_samples)\n",
    "#KL from CoB\n",
    "kld = tf.reduce_mean(log_ratio_p_q) \n"
   ]
  },
  {
   "cell_type": "code",
   "execution_count": 90,
   "metadata": {
    "colab": {
     "base_uri": "https://localhost:8080/"
    },
    "id": "QH5eP5NclBEf",
    "outputId": "1c6f6465-8bb3-4583-c235-2c914da988fb"
   },
   "outputs": [],
   "source": [
    "# Build 2 Discriminator Networks (one from noise input, one from generated samples)\n",
    "\n",
    "disc_real = ratios_critic(p_samples, do)\n",
    "disc_fake = ratios_critic(q_samples, do,reuse=True)\n",
    "disc_m = ratios_critic(m_samples, do,reuse=True)\n",
    "# disc_m_gen = ratios_critic(m_samples2, do,reuse=True)\n",
    "\n",
    "# Build Loss\n",
    "# lab = np.eye(K)\n",
    "# a = np.tile(lab[0],bs)\n",
    "# b = np.tile(lab[1],bs)\n",
    "# c = np.tile(lab[2],bs)\n",
    "\n",
    "a = np.tile([1,0,0],bs)\n",
    "b = np.tile([0,1,0],bs)\n",
    "c = np.tile([0,0,1],bs)\n",
    "\n",
    "label_a = tf.reshape(a,[bs,K])\n",
    "label_b = tf.reshape(b,[bs,K])\n",
    "label_c = tf.reshape(c,[bs,K])\n",
    "\n",
    "\n",
    "disc_loss_1 = tf.reduce_mean(tf.nn.softmax_cross_entropy_with_logits(logits=disc_real, labels=label_a))\n",
    "disc_loss_2 = tf.reduce_mean(tf.nn.softmax_cross_entropy_with_logits(logits=disc_fake, labels=label_b))\n",
    "disc_loss_3 = tf.reduce_mean(tf.nn.softmax_cross_entropy_with_logits(logits=disc_m, labels=label_c))\n",
    "# disc_loss_4 = tf.reduce_mean(tf.nn.softmax_cross_entropy_with_logits(logits=disc_m_gen, labels=label_c))\n",
    "\n",
    "dloss = disc_loss_1 + disc_loss_2 + 1*disc_loss_3 #+ 0.5*disc_loss_4 \n",
    "\n",
    "# Define CoB DRE\n",
    "\n",
    "log_r_p_m = ratios_critic(m_samples, reuse=True) \n",
    "log_r_p_from_m_direct = log_r_p_m \n",
    "\n",
    "t_vars = tf.trainable_variables()\n",
    "c_vars = [var for var in t_vars if 'critic' in var.name]\n",
    "\n",
    "c_optim = tf.train.AdamOptimizer(learning_rate=1e-3).minimize(dloss, var_list=t_vars)\n",
    "\n",
    "init = tf.global_variables_initializer()\n",
    "# Start a new TF session\n",
    "sess = tf.Session()\n",
    "\n",
    "# Run the initializer\n",
    "sess.run(init)\n"
   ]
  },
  {
   "cell_type": "code",
   "execution_count": 91,
   "metadata": {
    "colab": {
     "base_uri": "https://localhost:8080/",
     "height": 297
    },
    "id": "c8oVgSoXEAv_",
    "outputId": "045f2573-6d7f-4e89-94a7-286b08dcf27f"
   },
   "outputs": [
    {
     "data": {
      "application/vnd.jupyter.widget-view+json": {
       "model_id": "1bc56901d4e64340ad7422ebd181392a",
       "version_major": 2,
       "version_minor": 0
      },
      "text/plain": [
       "HBox(children=(FloatProgress(value=0.0, max=31000.0), HTML(value='')))"
      ]
     },
     "metadata": {},
     "output_type": "display_data"
    },
    {
     "name": "stdout",
     "output_type": "stream",
     "text": [
      "\n"
     ]
    },
    {
     "data": {
      "text/plain": [
       "<matplotlib.legend.Legend at 0x7f7e1c42d4d0>"
      ]
     },
     "execution_count": 91,
     "metadata": {},
     "output_type": "execute_result"
    },
    {
     "data": {
      "image/png": "[encoded data removed]",
      "text/plain": [
       "<Figure size 432x288 with 1 Axes>"
      ]
     },
     "metadata": {
      "needs_background": "light"
     },
     "output_type": "display_data"
    }
   ],
   "source": [
    "# Training\n",
    "loss2 = []\n",
    "pbar = (range(0,31000))\n",
    "for i in tqdm(pbar):\n",
    "    # Train\n",
    "    feed_dict = {}\n",
    "    l2,_ = sess.run([dloss, c_optim],feed_dict=feed_dict)\n",
    "    loss2.append(l2)\n",
    "\n",
    "fig = plt.figure()\n",
    "ax = plt.axes()\n",
    "plt.plot(loss2, label='CoB')\n",
    "ax.set_xlabel('Iterations' )\n",
    "ax.set_ylabel('Loss')\n",
    "plt.legend(loc='upper right')"
   ]
  },
  {
   "cell_type": "code",
   "execution_count": 92,
   "metadata": {
    "colab": {
     "base_uri": "https://localhost:8080/",
     "height": 283
    },
    "id": "08mK99A8IL2n",
    "outputId": "5d1e8b4f-82d7-4dde-a5ee-9687986d3f90"
   },
   "outputs": [
    {
     "data": {
      "text/plain": [
       "(-5.0, 5.0)"
      ]
     },
     "execution_count": 92,
     "metadata": {},
     "output_type": "execute_result"
    },
    {
     "data": {
      "image/png": "[encoded data removed]",
      "text/plain": [
       "<Figure size 432x288 with 1 Axes>"
      ]
     },
     "metadata": {
      "needs_background": "light"
     },
     "output_type": "display_data"
    }
   ],
   "source": [
    "# Sampling\n",
    "kl_ratio_store=[]\n",
    "log_ratio_store=[]\n",
    "log_r_p_from_m_direct_store=[]\n",
    "\n",
    "\n",
    "feed_dict = feed_dict\n",
    "kl_ratio, p_s, q_s, d_s, m_s, lpq, lpq_from_cob_dre_direct= sess.run([kld,\n",
    "                                                                            p_samples, q_samples, samples, m_samples,\n",
    "                                                                            log_ratio_p_q,  log_r_p_from_m_direct],\n",
    "                                                                          feed_dict=feed_dict)\n",
    "kl_ratio_store.append(kl_ratio)\n",
    "log_ratio_store.append(lpq)\n",
    "log_r_p_from_m_direct_store.append(lpq_from_cob_dre_direct)\n",
    "    \n",
    "fig, ax = plt.subplots(1, 1)\n",
    "ax.hist(p_s, density=True, histtype='stepfilled', alpha=0.8, label='P')\n",
    "ax.hist(q_s, density=True, histtype='stepfilled', alpha=0.8, label='Q')\n",
    "# ax.hist(d_s, density=True, histtype='stepfilled', alpha=0.8, label='M')\n",
    "ax.hist(m_s, density=True, histtype='stepfilled', alpha=0.8, label='M')\n",
    "ax.legend(loc='best', frameon=False)\n",
    "plt.xlim(-5,5)\n",
    "# plt.ylim(-400,800)"
   ]
  },
  {
   "cell_type": "code",
   "execution_count": 93,
   "metadata": {
    "colab": {
     "base_uri": "https://localhost:8080/",
     "height": 301
    },
    "id": "ja9hDBCPlg12",
    "outputId": "16acdcbe-1f62-4f6c-ea71-dddc8ce642d1"
   },
   "outputs": [
    {
     "data": {
      "text/plain": [
       "(-400.0, 1000.0)"
      ]
     },
     "execution_count": 93,
     "metadata": {},
     "output_type": "execute_result"
    },
    {
     "data": {
      "image/png": "[encoded data removed]",
      "text/plain": [
       "<Figure size 432x288 with 1 Axes>"
      ]
     },
     "metadata": {
      "needs_background": "light"
     },
     "output_type": "display_data"
    }
   ],
   "source": [
    "xs = m_s\n",
    "plt.scatter(xs,log_ratio_store[0],label='True from log_prob',alpha=0.9,s=10.)\n",
    "plt.scatter(xs,log_r_p_from_m_direct_store[-1][:,0]-log_r_p_from_m_direct_store[-1][:,1],label='from CoB DRE Direct',alpha=0.9,s=10.)\n",
    "\n",
    "plt.xlabel(\"Samples\")\n",
    "plt.ylabel(\"Log Ratio\")\n",
    "plt.legend(loc='upper right')\n",
    "plt.xlim(-4,5)\n",
    "plt.ylim(-400,1000)"
   ]
  },
  {
   "cell_type": "code",
   "execution_count": 94,
   "metadata": {},
   "outputs": [
    {
     "data": {
      "text/plain": [
       "(-1000.0, 1000.0)"
      ]
     },
     "execution_count": 94,
     "metadata": {},
     "output_type": "execute_result"
    },
    {
     "data": {
      "image/png": "[encoded data removed]",
      "text/plain": [
       "<Figure size 432x288 with 1 Axes>"
      ]
     },
     "metadata": {
      "needs_background": "light"
     },
     "output_type": "display_data"
    }
   ],
   "source": [
    "plt.scatter(xs,log_ratio_store[0],label='True p/q',alpha=0.9,s=10.,c='b')\n",
    "plt.scatter(xs,log_r_p_from_m_direct_store[-1][:,0]-log_r_p_from_m_direct_store[-1][:,1],label='CoB p/q',alpha=0.9,s=10.,c='r')\n",
    "plt.scatter(xs,-log_ratio_store[0],label='True q/p',alpha=0.9,s=10.,c='b')\n",
    "plt.scatter(xs,log_r_p_from_m_direct_store[-1][:,1]-log_r_p_from_m_direct_store[-1][:,0],label='CoB q/p',alpha=0.9,s=10.,c='r')\n",
    "\n",
    "plt.xlabel(\"Samples\")\n",
    "plt.ylabel(\"Log Ratio\")\n",
    "plt.legend(loc='lower right')\n",
    "plt.xlim(-4,6)\n",
    "plt.ylim(-1000,1000)"
   ]
  },
  {
   "cell_type": "code",
   "execution_count": 95,
   "metadata": {
    "colab": {
     "base_uri": "https://localhost:8080/",
     "height": 301
    },
    "id": "gHtEC7YB-jah",
    "outputId": "5ce554de-d77e-48b8-eea8-48f42af7e327"
   },
   "outputs": [
    {
     "data": {
      "text/plain": [
       "(-600.0, 400.0)"
      ]
     },
     "execution_count": 95,
     "metadata": {},
     "output_type": "execute_result"
    },
    {
     "data": {
      "image/png": "[encoded data removed]",
      "text/plain": [
       "<Figure size 432x288 with 1 Axes>"
      ]
     },
     "metadata": {
      "needs_background": "light"
     },
     "output_type": "display_data"
    }
   ],
   "source": [
    "rat = log_r_p_from_m_direct_store[-1][:,0]-log_r_p_from_m_direct_store[-1][:,1]\n",
    "d = [np.squeeze(norm.logpdf(x,mu_2,0.1)) for x in xs]\n",
    "b = [np.squeeze(norm.logpdf(x,mu_1,0.1)) for x in xs]\n",
    "\n",
    "plt.scatter(xs,b,label='True P',alpha=0.9,s=5.)\n",
    "plt.scatter(xs,rat+d,label='P',alpha=0.9,s=5.)\n",
    "\n",
    "plt.xlabel(\"Samples\")\n",
    "plt.ylabel(\"Log P(x)\")\n",
    "plt.legend(loc='upper right')\n",
    "plt.xlim(-4.,4)\n",
    "plt.ylim(-600,400)"
   ]
  },
  {
   "cell_type": "code",
   "execution_count": null,
   "metadata": {
    "id": "V03YVAWPlSSH"
   },
   "outputs": [],
   "source": []
  }
 ],
 "metadata": {
  "accelerator": "GPU",
  "colab": {
   "collapsed_sections": [],
   "name": "Experiment_CoB_Simple.ipynb",
   "provenance": []
  },
  "kernelspec": {
   "display_name": "Python 3",
   "language": "python",
   "name": "python3"
  },
  "language_info": {
   "codemirror_mode": {
    "name": "ipython",
    "version": 3
   },
   "file_extension": ".py",
   "mimetype": "text/x-python",
   "name": "python",
   "nbconvert_exporter": "python",
   "pygments_lexer": "ipython3",
   "version": "3.7.8"
  }
 },
 "nbformat": 4,
 "nbformat_minor": 4
}
