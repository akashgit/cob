{
  "nbformat": 4,
  "nbformat_minor": 0,
  "metadata": {
    "colab": {
      "name": "Experiment_CoB_Simple.ipynb",
      "provenance": [],
      "collapsed_sections": []
    },
    "kernelspec": {
      "name": "python3",
      "display_name": "Python 3"
    },
    "accelerator": "GPU"
  },
  "cells": [
    {
      "cell_type": "code",
      "metadata": {
        "colab": {
          "base_uri": "https://localhost:8080/"
        },
        "id": "zdgemk5nHdbL",
        "outputId": "332d9159-5b7e-488d-cdf1-803b67f11603"
      },
      "source": [
        "import warnings\n",
        "warnings.filterwarnings('ignore')\n",
        "%tensorflow_version 1.x\n",
        "import tensorflow as tf\n",
        "# tf.keras.backend.set_floatx(\n",
        "#     'float32'\n",
        "# )\n",
        "import numpy as np\n",
        "import seaborn as sns; \n",
        "tfd = tf.contrib.distributions\n",
        "import imageio\n",
        "import glob\n",
        "import tensorflow_probability as tfp\n",
        "tfd = tfp.distributions\n",
        "from tqdm import tqdm_notebook as tqdm\n",
        "from scipy.stats import norm, uniform\n",
        "\n",
        "import matplotlib.pyplot as plt\n",
        "from mpl_toolkits.mplot3d import Axes3D\n",
        "slim = tf.contrib.slim\n",
        "from tqdm.notebook import tqdm\n",
        "!mkdir fig\n",
        "print(tf.__version__)"
      ],
      "execution_count": null,
      "outputs": [
        {
          "output_type": "stream",
          "text": [
            "TensorFlow 1.x selected.\n",
            "WARNING:tensorflow:\n",
            "The TensorFlow contrib module will not be included in TensorFlow 2.0.\n",
            "For more information, please see:\n",
            "  * https://github.com/tensorflow/community/blob/master/rfcs/20180907-contrib-sunset.md\n",
            "  * https://github.com/tensorflow/addons\n",
            "  * https://github.com/tensorflow/io (for I/O related ops)\n",
            "If you depend on functionality not listed there, please file an issue.\n",
            "\n",
            "1.15.2\n"
          ],
          "name": "stdout"
        }
      ]
    },
    {
      "cell_type": "code",
      "metadata": {
        "id": "boCNTMt4BEiY"
      },
      "source": [
        "tol = 1e-35\n",
        "bs = 500\n",
        "K = 3\n",
        "do = 0.8\n",
        "\n",
        "def ratios_critic(x, prob = 1, reuse=False):\n",
        "    with tf.variable_scope('critic') as scope:\n",
        "      if reuse:\n",
        "        scope.reuse_variables()\n",
        "      x = tf.expand_dims(x,1)\n",
        "      h = slim.fully_connected(x, 20, activation_fn=tf.nn.softplus)\n",
        "      h = tf.nn.dropout(h,prob)\n",
        "      h = slim.fully_connected(h, 10, activation_fn=tf.nn.softplus)\n",
        "      h = tf.nn.dropout(h,prob)\n",
        "      log_d = slim.fully_connected(h, K, activation_fn=None)\n",
        "    return tf.squeeze(log_d)\n"
      ],
      "execution_count": null,
      "outputs": []
    },
    {
      "cell_type": "code",
      "metadata": {
        "id": "lt5Ozzo0HrUj"
      },
      "source": [
        "tf.reset_default_graph()\n",
        "tf.random.set_random_seed(40)\n",
        "\n",
        "mu_1 = 0.\n",
        "mu_2 = 2.\n",
        "mu_3 = 3.\n",
        "lam = tf.placeholder('float',1)\n",
        "p = tfd.Normal(loc=mu_1, scale=.1)\n",
        "q = tfd.Normal(loc=mu_2, scale=.1)\n",
        "base = tfp.distributions.Cauchy(loc=mu_3, scale=1.)\n",
        "\n",
        "\n",
        "samples = base.sample([bs]) \n",
        "p_samples = p.sample([bs]) \n",
        "q_samples = q.sample([bs])\n",
        "m_samples = samples\n",
        "# m_samples = samples + (p_samples+q_samples)/2.\n",
        "m_samples2 = m_samples# samples[bs:]\n",
        "\n",
        "#Ratio by log of prob evaluated at samples from base\n",
        "log_ratio_p_q = p.log_prob(m_samples) - q.log_prob(m_samples)\n",
        "#KL from CoB\n",
        "kld = tf.reduce_mean(log_ratio_p_q) \n"
      ],
      "execution_count": null,
      "outputs": []
    },
    {
      "cell_type": "code",
      "metadata": {
        "id": "QH5eP5NclBEf",
        "colab": {
          "base_uri": "https://localhost:8080/"
        },
        "outputId": "1c6f6465-8bb3-4583-c235-2c914da988fb"
      },
      "source": [
        "# Build 2 Discriminator Networks (one from noise input, one from generated samples)\n",
        "\n",
        "disc_real = ratios_critic(p_samples, do)\n",
        "disc_fake = ratios_critic(q_samples, do,reuse=True)\n",
        "disc_m = ratios_critic(m_samples, do,reuse=True)\n",
        "# disc_m_gen = ratios_critic(m_samples2, do,reuse=True)\n",
        "\n",
        "# Build Loss\n",
        "# lab = np.eye(K)\n",
        "# a = np.tile(lab[0],bs)\n",
        "# b = np.tile(lab[1],bs)\n",
        "# c = np.tile(lab[2],bs)\n",
        "\n",
        "a = np.tile([1,0,0],bs)\n",
        "b = np.tile([0,1,0],bs)\n",
        "c = np.tile([0,0,1],bs)\n",
        "\n",
        "label_a = tf.reshape(a,[bs,K])\n",
        "label_b = tf.reshape(b,[bs,K])\n",
        "label_c = tf.reshape(c,[bs,K])\n",
        "\n",
        "\n",
        "disc_loss_1 = tf.reduce_mean(tf.nn.softmax_cross_entropy_with_logits(logits=disc_real, labels=label_a))\n",
        "disc_loss_2 = tf.reduce_mean(tf.nn.softmax_cross_entropy_with_logits(logits=disc_fake, labels=label_b))\n",
        "disc_loss_3 = tf.reduce_mean(tf.nn.softmax_cross_entropy_with_logits(logits=disc_m, labels=label_c))\n",
        "# disc_loss_4 = tf.reduce_mean(tf.nn.softmax_cross_entropy_with_logits(logits=disc_m_gen, labels=label_c))\n",
        "\n",
        "dloss = disc_loss_1 + disc_loss_2 + 1*disc_loss_3 #+ 0.5*disc_loss_4 \n",
        "\n",
        "# Define CoB DRE\n",
        "\n",
        "log_r_p_m = ratios_critic(m_samples, reuse=True) \n",
        "log_r_p_from_m_direct = log_r_p_m \n",
        "\n",
        "t_vars = tf.trainable_variables()\n",
        "c_vars = [var for var in t_vars if 'critic' in var.name]\n",
        "\n",
        "c_optim = tf.train.AdamOptimizer(learning_rate=1e-3).minimize(dloss, var_list=t_vars)\n",
        "\n",
        "init = tf.global_variables_initializer()\n",
        "# Start a new TF session\n",
        "sess = tf.Session()\n",
        "\n",
        "# Run the initializer\n",
        "sess.run(init)\n"
      ],
      "execution_count": null,
      "outputs": [
        {
          "output_type": "stream",
          "text": [
            "WARNING:tensorflow:From /tensorflow-1.15.2/python3.7/tensorflow_core/contrib/layers/python/layers/layers.py:1866: Layer.apply (from tensorflow.python.keras.engine.base_layer) is deprecated and will be removed in a future version.\n",
            "Instructions for updating:\n",
            "Please use `layer.__call__` method instead.\n",
            "WARNING:tensorflow:From <ipython-input-2-ad90569e47fb>:12: calling dropout (from tensorflow.python.ops.nn_ops) with keep_prob is deprecated and will be removed in a future version.\n",
            "Instructions for updating:\n",
            "Please use `rate` instead of `keep_prob`. Rate should be set to `rate = 1 - keep_prob`.\n",
            "WARNING:tensorflow:From <ipython-input-4-97469dd9b823>:23: softmax_cross_entropy_with_logits (from tensorflow.python.ops.nn_ops) is deprecated and will be removed in a future version.\n",
            "Instructions for updating:\n",
            "\n",
            "Future major versions of TensorFlow will allow gradients to flow\n",
            "into the labels input on backprop by default.\n",
            "\n",
            "See `tf.nn.softmax_cross_entropy_with_logits_v2`.\n",
            "\n"
          ],
          "name": "stdout"
        }
      ]
    },
    {
      "cell_type": "code",
      "metadata": {
        "colab": {
          "base_uri": "https://localhost:8080/",
          "height": 297
        },
        "id": "c8oVgSoXEAv_",
        "outputId": "045f2573-6d7f-4e89-94a7-286b08dcf27f"
      },
      "source": [
        "# Training\n",
        "loss2 = []\n",
        "pbar = (range(0,13000))\n",
        "for i in pbar:\n",
        "    # Train\n",
        "    feed_dict = {}\n",
        "    l2,_ = sess.run([dloss, c_optim],feed_dict=feed_dict)\n",
        "    loss2.append(l2)\n",
        "\n",
        "fig = plt.figure()\n",
        "ax = plt.axes()\n",
        "plt.plot(loss2, label='CoB')\n",
        "ax.set_xlabel('Iterations' )\n",
        "ax.set_ylabel('Loss')\n",
        "plt.legend(loc='upper right')"
      ],
      "execution_count": null,
      "outputs": [
        {
          "output_type": "execute_result",
          "data": {
            "text/plain": [
              "<matplotlib.legend.Legend at 0x7fe3a03ff290>"
            ]
          },
          "metadata": {
            "tags": []
          },
          "execution_count": 5
        },
        {
          "output_type": "display_data",
          "data": {
            "image/png": "[encoded data removed]",
            "text/plain": [
              "<Figure size 432x288 with 1 Axes>"
            ]
          },
          "metadata": {
            "tags": [],
            "needs_background": "light"
          }
        }
      ]
    },
    {
      "cell_type": "code",
      "metadata": {
        "colab": {
          "base_uri": "https://localhost:8080/",
          "height": 283
        },
        "id": "08mK99A8IL2n",
        "outputId": "5d1e8b4f-82d7-4dde-a5ee-9687986d3f90"
      },
      "source": [
        "# Sampling\n",
        "kl_ratio_store=[]\n",
        "log_ratio_store=[]\n",
        "log_r_p_from_m_direct_store=[]\n",
        "\n",
        "\n",
        "feed_dict = feed_dict\n",
        "kl_ratio, p_s, q_s, d_s, m_s, lpq, lpq_from_cob_dre_direct= sess.run([kld,\n",
        "                                                                            p_samples, q_samples, samples, m_samples,\n",
        "                                                                            log_ratio_p_q,  log_r_p_from_m_direct],\n",
        "                                                                          feed_dict=feed_dict)\n",
        "kl_ratio_store.append(kl_ratio)\n",
        "log_ratio_store.append(lpq)\n",
        "log_r_p_from_m_direct_store.append(lpq_from_cob_dre_direct)\n",
        "    \n",
        "fig, ax = plt.subplots(1, 1)\n",
        "ax.hist(p_s, density=True, histtype='stepfilled', alpha=0.8, label='P')\n",
        "ax.hist(q_s, density=True, histtype='stepfilled', alpha=0.8, label='Q')\n",
        "# ax.hist(d_s, density=True, histtype='stepfilled', alpha=0.8, label='M')\n",
        "ax.hist(m_s, density=True, histtype='stepfilled', alpha=0.8, label='M')\n",
        "ax.legend(loc='best', frameon=False)\n",
        "plt.xlim(-5,15)\n",
        "# plt.ylim(-400,800)"
      ],
      "execution_count": null,
      "outputs": [
        {
          "output_type": "execute_result",
          "data": {
            "text/plain": [
              "(-5.0, 15.0)"
            ]
          },
          "metadata": {
            "tags": []
          },
          "execution_count": 6
        },
        {
          "output_type": "display_data",
          "data": {
            "image/png": "[encoded data removed]",
            "text/plain": [
              "<Figure size 432x288 with 1 Axes>"
            ]
          },
          "metadata": {
            "tags": [],
            "needs_background": "light"
          }
        }
      ]
    },
    {
      "cell_type": "code",
      "metadata": {
        "colab": {
          "base_uri": "https://localhost:8080/",
          "height": 301
        },
        "id": "ja9hDBCPlg12",
        "outputId": "16acdcbe-1f62-4f6c-ea71-dddc8ce642d1"
      },
      "source": [
        "xs = m_s\n",
        "plt.scatter(xs,log_ratio_store[0],label='True from log_prob',alpha=0.9,s=10.)\n",
        "plt.scatter(xs,log_r_p_from_m_direct_store[-1][:,0]-log_r_p_from_m_direct_store[-1][:,1],label='from CoB DRE Direct',alpha=0.9,s=10.)\n",
        "\n",
        "plt.xlabel(\"Samples\")\n",
        "plt.ylabel(\"Log Ratio\")\n",
        "plt.legend(loc='upper right')\n",
        "plt.xlim(-4,5)\n",
        "plt.ylim(-400,1000)"
      ],
      "execution_count": null,
      "outputs": [
        {
          "output_type": "execute_result",
          "data": {
            "text/plain": [
              "(-400.0, 1000.0)"
            ]
          },
          "metadata": {
            "tags": []
          },
          "execution_count": 7
        },
        {
          "output_type": "display_data",
          "data": {
            "image/png": "[encoded data removed]",
            "text/plain": [
              "<Figure size 432x288 with 1 Axes>"
            ]
          },
          "metadata": {
            "tags": [],
            "needs_background": "light"
          }
        }
      ]
    },
    {
      "cell_type": "code",
      "metadata": {
        "colab": {
          "base_uri": "https://localhost:8080/",
          "height": 301
        },
        "id": "gHtEC7YB-jah",
        "outputId": "5ce554de-d77e-48b8-eea8-48f42af7e327"
      },
      "source": [
        "rat = log_r_p_from_m_direct_store[-1][:,0]-log_r_p_from_m_direct_store[-1][:,1]\n",
        "d = [np.squeeze(norm.logpdf(x,mu_2,0.1)) for x in xs]\n",
        "b = [np.squeeze(norm.logpdf(x,mu_1,0.1)) for x in xs]\n",
        "\n",
        "plt.scatter(xs,b,label='True P',alpha=0.9,s=5.)\n",
        "plt.scatter(xs,rat+d,label='P',alpha=0.9,s=5.)\n",
        "\n",
        "plt.xlabel(\"Samples\")\n",
        "plt.ylabel(\"Log P(x)\")\n",
        "plt.legend(loc='upper right')\n",
        "plt.xlim(-4.,4)\n",
        "plt.ylim(-600,400)"
      ],
      "execution_count": null,
      "outputs": [
        {
          "output_type": "execute_result",
          "data": {
            "text/plain": [
              "(-600.0, 400.0)"
            ]
          },
          "metadata": {
            "tags": []
          },
          "execution_count": 9
        },
        {
          "output_type": "display_data",
          "data": {
            "image/png": "[encoded data removed]",
            "text/plain": [
              "<Figure size 432x288 with 1 Axes>"
            ]
          },
          "metadata": {
            "tags": [],
            "needs_background": "light"
          }
        }
      ]
    },
    {
      "cell_type": "code",
      "metadata": {
        "id": "V03YVAWPlSSH"
      },
      "source": [
        ""
      ],
      "execution_count": null,
      "outputs": []
    }
  ]
}