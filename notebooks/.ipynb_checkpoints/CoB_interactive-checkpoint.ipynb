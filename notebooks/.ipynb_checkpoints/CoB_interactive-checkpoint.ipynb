{
 "cells": [
  {
   "cell_type": "code",
   "execution_count": 26,
   "metadata": {
    "colab": {
     "base_uri": "https://localhost:8080/"
    },
    "id": "zdgemk5nHdbL",
    "outputId": "332d9159-5b7e-488d-cdf1-803b67f11603"
   },
   "outputs": [
    {
     "name": "stdout",
     "output_type": "stream",
     "text": [
      "The autoreload extension is already loaded. To reload it, use:\n",
      "  %reload_ext autoreload\n",
      "1.15.0\n"
     ]
    }
   ],
   "source": [
    "%load_ext autoreload\n",
    "%autoreload 2\n",
    "%matplotlib inline\n",
    "import warnings\n",
    "warnings.filterwarnings('ignore')\n",
    "from IPython.display import display, clear_output\n",
    "from time import sleep\n",
    "from livelossplot import PlotLosses\n",
    "import tensorflow as tf\n",
    "import numpy as np\n",
    "import seaborn as sns; \n",
    "import imageio\n",
    "import glob\n",
    "import tensorflow_probability as tfp\n",
    "tfd = tfp.distributions\n",
    "from scipy.stats import norm, uniform\n",
    "import sys\n",
    "import matplotlib.pyplot as plt\n",
    "from mpl_toolkits.mplot3d import Axes3D\n",
    "slim = tf.contrib.slim\n",
    "from tqdm.notebook import tqdm\n",
    "import sys\n",
    "from scipy.linalg import block_diag\n",
    "sys.path.append('../models/')\n",
    "sys.path.append('../')\n",
    "from ratio_utils_highdim import *\n",
    "tf.keras.backend.set_floatx('float32')\n",
    "print(tf.__version__)"
   ]
  },
  {
   "cell_type": "code",
   "execution_count": 42,
   "metadata": {},
   "outputs": [
    {
     "name": "stdout",
     "output_type": "stream",
     "text": [
      "0.7950600976206501\n",
      "(100000, 320)\n"
     ]
    }
   ],
   "source": [
    "n_dims = 320\n",
    "num_samples=100000\n",
    "mi = 80\n",
    "bs=500\n",
    "N=150\n",
    "deep=False\n",
    "reset(1)\n",
    "\n",
    "def get_rho_from_mi(mi, n_dims):\n",
    "    \"\"\"Get correlation coefficient from true mutual information\"\"\"\n",
    "    x = (4 * mi) / n_dims\n",
    "    return (1 - np.exp(-x)) ** 0.5  # correlation coefficient\n",
    "        \n",
    "def get_data(mu_1=0.,mu_2=2.,mu_3=2.,scale_p=0.1,scale_q=0.1,scale_m=1.):\n",
    "    \n",
    "    p = tfd.MultivariateNormalFullCovariance(\n",
    "        loc=mu_1,\n",
    "        covariance_matrix=scale_p)\n",
    "    \n",
    "    q = tfd.MultivariateNormalDiag(\n",
    "        loc=mu_2,\n",
    "        scale_diag=scale_q)\n",
    "      \n",
    "    m = tfp.distributions.Mixture(\n",
    "          cat=tfp.distributions.Categorical(probs=[.5,.5]),\n",
    "          components=[\n",
    "            p,\n",
    "            q\n",
    "        ])\n",
    "    p_samples_ = p.sample([num_samples]) \n",
    "    q_samples_ = q.sample([num_samples])\n",
    "    alpha = tf.expand_dims(tfd.Uniform (0.,1.).sample([num_samples]),1)\n",
    "    m_samples_ = m.sample([num_samples]) #+ m.sample([num_samples])\n",
    "    \n",
    "    with tf.Session() as sess:\n",
    "        p_,q_,m_ = sess.run([p_samples_, q_samples_, m_samples_],feed_dict={})\n",
    "        sess.close() \n",
    "    \n",
    "    return p, q, m, p_,q_,m_\n",
    "\n",
    "# Define data param\n",
    "rho = get_rho_from_mi(mi, n_dims)  # correlation coefficient\n",
    "print(rho)\n",
    "rhos = np.ones(n_dims // 2, dtype=\"float32\") * rho\n",
    "\n",
    "mu_1=np.zeros((n_dims), dtype=\"float32\")\n",
    "mu_2=np.zeros((n_dims), dtype=\"float32\")\n",
    "mu_3=np.zeros((n_dims), dtype=\"float32\")\n",
    "\n",
    "scale_p = block_diag(*[[[1, rho], [rho, 1]] for _ in range(n_dims // 2)])\n",
    "scale_p = np.float32(scale_p)\n",
    "scale_q = np.ones(n_dims, dtype=\"float32\")\n",
    "scale_m = 1*np.eye(n_dims, dtype=\"float32\")\n",
    "\n",
    "# Generate dataset\n",
    "p, q, m, p_list, q_list, m_list = get_data(mu_1,mu_2,mu_3,scale_p,scale_q,scale_m)\n",
    "_, _, _, p_list_test, _, m_list_test = get_data(mu_1,mu_2,mu_3,scale_p,scale_q,scale_m)\n",
    "\n",
    "print(p_list.shape)"
   ]
  },
  {
   "cell_type": "code",
   "execution_count": null,
   "metadata": {},
   "outputs": [
    {
     "data": {
      "image/png": "[encoded data removed]",
      "text/plain": [
       "<Figure size 1152x288 with 4 Axes>"
      ]
     },
     "metadata": {},
     "output_type": "display_data"
    }
   ],
   "source": [
    "p_samples = tf.placeholder(tf.float32, shape=[None,n_dims])\n",
    "q_samples = tf.placeholder(tf.float32, shape=[None,n_dims])\n",
    "m_samples = tf.placeholder(tf.float32, shape=[None,n_dims])\n",
    "\n",
    "dloss = get_loss(p_samples, q_samples, m_samples, None, deep=deep)\n",
    "optim = get_optim(dloss,lr=5e-3) #,lr=5e-3,b1=.99\n",
    "\n",
    "log_ratio_p_q, _ = get_gt_ratio_kl(p,q,m_samples)\n",
    "_, kl_from_pq = get_gt_ratio_kl(p,q,p_samples)\n",
    "kl_from_cob = get_kl_from_cob(p_samples)\n",
    "\n",
    "log_ratio_p_m = get_logits(m_samples,deep=deep, training=False)\n",
    "\n",
    "init = tf.global_variables_initializer()\n",
    "sess = tf.Session()\n",
    "sess.run(init)\n",
    "[kl_gt] = sess.run([p.kl_divergence(q)],feed_dict={})\n",
    "\n",
    "fig, [ax1,ax2,ax3,ax4] = plt.subplots(1, 4,figsize=(16,4))\n",
    "\n",
    "line, = ax1.plot([0,1],[0,1])\n",
    "test_line, = ax4.plot([0,1],[0,1],label='Test Loss')\n",
    "test_line1, = ax4.plot([0,1],[0,1],label='Train Loss')\n",
    "kld_line, = ax3.plot([0],[0],label='GT KLD: '+str(kl_gt))\n",
    "x, y = np.random.random((2, 500))\n",
    "\n",
    "scat = ax2.scatter(x,y,label='GT LR vs CoB ',alpha=0.9,s=10.,c='r')\n",
    "\n",
    "ax1.set_xlabel(\"Iteration\")\n",
    "ax1.set_ylabel(\"Train Loss\")\n",
    "ax1.set_xlim([0,N*(num_samples//bs)])\n",
    "ax1.set_ylim([0,10])\n",
    "\n",
    "ax2.set_xlabel(\"Log Ratio\")\n",
    "ax2.set_ylabel(\"Log Ratio CoB\")\n",
    "ax2.legend(loc='best')\n",
    "\n",
    "ax3.set_ylabel(\"KLD\")\n",
    "ax3.legend(loc='best')\n",
    "\n",
    "ax4.set_xlabel(\"Iteration\")\n",
    "ax4.set_ylabel(\"Test Loss\")\n",
    "ax4.set_xlim([0,N//50])\n",
    "ax4.set_ylim([0,10])\n",
    "ax4.legend(loc='best')\n",
    "\n",
    "\n",
    "plt.tight_layout()\n",
    "loss_store=[]\n",
    "test_loss_store=[]\n",
    "test_loss_store1=[]\n",
    "kld_store=[]\n",
    "pbar = range(0,N)\n",
    "for _ in pbar:\n",
    "    for i in range(num_samples//bs):\n",
    "        ps = p_list[np.random.choice(range(len(p_list)),bs)]\n",
    "        qs = q_list[np.random.choice(range(len(q_list)),bs)]\n",
    "        ms = m_list[np.random.choice(range(len(m_list)),bs)]\n",
    "        feed_dict = {p_samples:ps, q_samples:qs, m_samples:ms}\n",
    "        l,_ = sess.run([dloss, optim],feed_dict=feed_dict)\n",
    "        loss_store.append(l)\n",
    "        if i%100==0:\n",
    "            line.set_data(range(len(loss_store)), loss_store)\n",
    "            ax1.set_xlim( 0, len(loss_store) )\n",
    "            \n",
    "            ps = p_list_test[np.random.choice(range(len(p_list_test)),bs)]\n",
    "            qs = q_list[np.random.choice(range(len(q_list)),bs)]\n",
    "            ms = m_list_test[np.random.choice(range(len(m_list_test)),bs)]\n",
    "            feed_dict = {p_samples:ps, q_samples:qs, m_samples:ms}\n",
    "            \n",
    "            testl, lpq, lpqm, kl_cob = sess.run([dloss, log_ratio_p_q, log_ratio_p_m, kl_from_cob],feed_dict=feed_dict)\n",
    "            kld_store.append(kl_cob)\n",
    "            test_loss_store.append(testl)\n",
    "            test_loss_store1.append(l)\n",
    "            cob = lpqm[:,0]-lpqm[:,1]\n",
    "            scat.set_offsets(np.asarray([lpq,cob]).T)\n",
    "            ax2.set_xlim( lpq.min(), lpq.max() )\n",
    "            ax2.set_ylim( lpq.min(), lpq.max() )\n",
    "\n",
    "            kld_line.set_data(range(len(kld_store)),kld_store)\n",
    "            ax3.set_xlim( 0, len(kld_store) )\n",
    "            ax3.set_ylim( min(kld_store), max(kld_store) )\n",
    "            \n",
    "            test_line.set_data(range(len(test_loss_store)), test_loss_store)\n",
    "            test_line1.set_data(range(len(test_loss_store1)), test_loss_store1)\n",
    "            ax4.set_xlim( 0, len(test_loss_store) )\n",
    "\n",
    "            clear_output(wait=True)\n",
    "            display(fig)\n",
    "\n",
    "\n",
    "# sample_and_plot(sess, kld, kl_from_pq, kl_from_cob, p_samples, q_samples, m_samples, log_ratio_p_q, log_ratio_p_m, mu_1, mu_2, scale_p, scale_q, mu_3, scale_m)\n",
    "\n",
    "\n",
    "\n",
    "    "
   ]
  },
  {
   "cell_type": "code",
   "execution_count": null,
   "metadata": {},
   "outputs": [],
   "source": [
    "np.mean(kld_store[-50:])"
   ]
  },
  {
   "cell_type": "code",
   "execution_count": 88,
   "metadata": {},
   "outputs": [
    {
     "data": {
      "text/plain": [
       "7.356702"
      ]
     },
     "execution_count": 88,
     "metadata": {},
     "output_type": "execute_result"
    }
   ],
   "source": [
    "np.std(kld_store[-50:])"
   ]
  },
  {
   "cell_type": "code",
   "execution_count": null,
   "metadata": {},
   "outputs": [],
   "source": [
    "30277256 603020"
   ]
  }
 ],
 "metadata": {
  "accelerator": "GPU",
  "colab": {
   "collapsed_sections": [],
   "name": "Experiment_CoB_Simple.ipynb",
   "provenance": []
  },
  "kernelspec": {
   "display_name": "Python 3",
   "language": "python",
   "name": "python3"
  },
  "language_info": {
   "codemirror_mode": {
    "name": "ipython",
    "version": 3
   },
   "file_extension": ".py",
   "mimetype": "text/x-python",
   "name": "python",
   "nbconvert_exporter": "python",
   "pygments_lexer": "ipython3",
   "version": "3.7.8"
  }
 },
 "nbformat": 4,
 "nbformat_minor": 4
}
