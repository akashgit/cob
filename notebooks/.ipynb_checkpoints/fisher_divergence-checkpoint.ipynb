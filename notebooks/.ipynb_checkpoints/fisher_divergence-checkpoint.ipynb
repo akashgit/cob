{
 "cells": [
  {
   "cell_type": "code",
   "execution_count": 5,
   "metadata": {},
   "outputs": [],
   "source": [
    "import jax.numpy as jnp\n",
    "from jax import grad, jit, vmap, jacfwd\n",
    "from jax import random\n",
    "\n",
    "key = random.PRNGKey(0)"
   ]
  },
  {
   "cell_type": "code",
   "execution_count": 21,
   "metadata": {},
   "outputs": [],
   "source": [
    "def sigmoid(x):\n",
    "    return 0.5 * (jnp.tanh(x / 2) + 1)\n",
    "\n",
    "# Outputs probability of a label being true.\n",
    "def critic(W, b, inputs):\n",
    "    return sigmoid(jnp.dot(inputs, W) + b)\n",
    "\n",
    "def generator(W, b, noise):\n",
    "    return jnp.tanh(jnp.dot(noise, W) + b)\n",
    "\n",
    "# Build a toy dataset.\n",
    "noise = jnp.array([[0.52, 0.12,  0.77],\n",
    "                   [0.88, -0.08, 0.15],\n",
    "                   [0.52, 0.06, -0.30],\n",
    "                   [0.74, -0.49, 0.39]])\n",
    "inputs = jnp.array([[0.52, 0.12,  0.77],\n",
    "                   [0.88, -0.08, 0.15],\n",
    "                   [0.52, 0.06, -0.30],\n",
    "                   [0.74, -0.49, 0.39]])\n",
    "targets = jnp.array([True, True, False, True])\n",
    "\n",
    "# Training loss is the negative log-likelihood of the training examples.\n",
    "def loss(W, b, data):\n",
    "    preds = critic(W, b, data)\n",
    "    label_probs = preds * targets + (1 - preds) * (1 - targets)\n",
    "    return -jnp.sum(jnp.log(label_probs))\n",
    "\n",
    "def genLoss(Wg, bg, Wc, bc, noise):\n",
    "    fake_data = generator(Wg, bg, noise)\n",
    "    return loss(Wc, bc, fake_data)\n",
    "\n",
    "# Initialize random model coefficients\n",
    "key, W_key_c, b_key_c, W_key_g, b_key_g = random.split(key, 5)\n",
    "Wc = random.normal(W_key_c, (3,))\n",
    "bc = random.normal(b_key_c, ())\n",
    "Wg = random.normal(W_key_g, (3,3))\n",
    "bg = random.normal(b_key_g, ())"
   ]
  },
  {
   "cell_type": "code",
   "execution_count": 22,
   "metadata": {},
   "outputs": [
    {
     "name": "stdout",
     "output_type": "stream",
     "text": [
      "W_grad [-1.1221914   0.24741234 -0.8037301 ]\n",
      "b_grad -1.4731382\n"
     ]
    }
   ],
   "source": [
    "# Differentiate `loss` with respect to the first positional argument:\n",
    "W_grad, b_grad = grad(loss, (0, 1))(Wc, bc, inputs)\n",
    "print('W_grad', W_grad)\n",
    "print('b_grad', b_grad)"
   ]
  },
  {
   "cell_type": "code",
   "execution_count": 34,
   "metadata": {},
   "outputs": [],
   "source": [
    "def i_grad(ins):\n",
    "    return grad(critic,2)(Wc,bc,ins)\n",
    "\n",
    "@jit\n",
    "def vmap_batched_grad(Wg, bg, noise):\n",
    "    inputs = generator(Wg, bg, noise)\n",
    "    return jnp.mean(vmap(i_grad)(inputs))\n",
    "\n",
    "fn = vmap_batched_grad(Wg, bg, noise)"
   ]
  },
  {
   "cell_type": "code",
   "execution_count": 35,
   "metadata": {},
   "outputs": [
    {
     "data": {
      "text/plain": [
       "(DeviceArray([[ 0.0056585 ,  0.01171166, -0.00460712],\n",
       "              [-0.00060031, -0.00234188,  0.00013395],\n",
       "              [ 0.00124006,  0.00499358, -0.00217985]], dtype=float32),\n",
       " DeviceArray(0.01692257, dtype=float32))"
      ]
     },
     "execution_count": 35,
     "metadata": {},
     "output_type": "execute_result"
    }
   ],
   "source": [
    "grad(vmap_batched_grad,(0,1))(Wg, bg, noise)"
   ]
  },
  {
   "cell_type": "code",
   "execution_count": 36,
   "metadata": {},
   "outputs": [
    {
     "data": {
      "text/plain": [
       "DeviceArray(-0.08819881, dtype=float32)"
      ]
     },
     "execution_count": 36,
     "metadata": {},
     "output_type": "execute_result"
    }
   ],
   "source": [
    "fn"
   ]
  },
  {
   "cell_type": "code",
   "execution_count": null,
   "metadata": {},
   "outputs": [],
   "source": []
  }
 ],
 "metadata": {
  "kernelspec": {
   "display_name": "Python 3",
   "language": "python",
   "name": "python3"
  },
  "language_info": {
   "codemirror_mode": {
    "name": "ipython",
    "version": 3
   },
   "file_extension": ".py",
   "mimetype": "text/x-python",
   "name": "python",
   "nbconvert_exporter": "python",
   "pygments_lexer": "ipython3",
   "version": "3.7.8"
  }
 },
 "nbformat": 4,
 "nbformat_minor": 4
}
