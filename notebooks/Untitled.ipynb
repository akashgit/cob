{
 "cells": [
  {
   "cell_type": "code",
   "execution_count": 5,
   "metadata": {},
   "outputs": [],
   "source": [
    "import functools\n",
    "import itertools\n",
    "import re\n",
    "import sys\n",
    "import time\n",
    "\n",
    "from matplotlib.pyplot import *\n",
    "from tqdm import tqdm_notebook as tqdm\n",
    "\n",
    "import jax\n",
    "\n",
    "from jax import lax\n",
    "import jax.numpy as jnp\n",
    "import jax.scipy as jsp\n",
    "from jax import random\n",
    "\n",
    "import numpy as np\n",
    "import scipy as sp"
   ]
  },
  {
   "cell_type": "code",
   "execution_count": 2,
   "metadata": {},
   "outputs": [],
   "source": [
    "np.random.seed(10009)\n",
    "\n",
    "num_features = 1\n",
    "num_points = 100\n",
    "\n",
    "y = np.random.randn(num_points, num_features).astype(jnp.float32)"
   ]
  },
  {
   "cell_type": "code",
   "execution_count": 3,
   "metadata": {},
   "outputs": [],
   "source": [
    "@jax.jit\n",
    "def llh(y, x_loc, x_scale):\n",
    "    result = jnp.sum(jsp.stats.norm.logpdf(y, loc=x_loc, scale=x_scale))\n",
    "    return result\n",
    "\n",
    "batched_llh = jax.jit(jax.vmap(llh,(1,None,None)))"
   ]
  },
  {
   "cell_type": "code",
   "execution_count": 4,
   "metadata": {},
   "outputs": [],
   "source": [
    "def llh_avg(y, x_loc, x_log_scale):\n",
    "    x_scale = jnp.exp(x_log_scale)\n",
    "    return jnp.mean(batched_llh(y, x_loc, x_scale),0)\n",
    " \n",
    "llh_avg = jax.jit(llh_avg)\n",
    "llh_avg_val_and_grad = jax.jit(jax.value_and_grad(llh_avg, argnums=(1, 2)))"
   ]
  },
  {
   "cell_type": "code",
   "execution_count": 6,
   "metadata": {},
   "outputs": [
    {
     "name": "stderr",
     "output_type": "stream",
     "text": [
      "/disk_c/akash/anaconda/envs/iclr/lib/python3.7/site-packages/ipykernel_launcher.py:6: TqdmDeprecationWarning: This function will be removed in tqdm==5.0.0\n",
      "Please use `tqdm.notebook.tqdm` instead of `tqdm.tqdm_notebook`\n",
      "  \n"
     ]
    },
    {
     "data": {
      "application/vnd.jupyter.widget-view+json": {
       "model_id": "cafe9fcdca634e1aac4ae135dd9ddcff",
       "version_major": 2,
       "version_minor": 0
      },
      "text/plain": [
       "HBox(children=(FloatProgress(value=0.0, max=1000.0), HTML(value='')))"
      ]
     },
     "metadata": {},
     "output_type": "display_data"
    },
    {
     "name": "stdout",
     "output_type": "stream",
     "text": [
      "0\t-1338.639892578125\n",
      "10\t-1585.385986328125\n",
      "20\t-585.3890380859375\n",
      "30\t-137.86053466796875\n",
      "40\t-137.54461669921875\n",
      "50\t-137.39547729492188\n",
      "60\t-137.30780029296875\n",
      "70\t-137.24981689453125\n",
      "80\t-137.20855712890625\n",
      "90\t-137.17767333984375\n",
      "100\t-137.1536102294922\n",
      "110\t-137.13433837890625\n",
      "120\t-137.1185760498047\n",
      "130\t-137.1054229736328\n",
      "140\t-137.09426879882812\n",
      "150\t-137.08468627929688\n",
      "160\t-137.07638549804688\n",
      "170\t-137.06912231445312\n",
      "180\t-137.06268310546875\n",
      "190\t-137.0569610595703\n",
      "200\t-137.0518341064453\n",
      "210\t-137.04721069335938\n",
      "220\t-137.04302978515625\n",
      "230\t-137.03921508789062\n",
      "240\t-137.03573608398438\n",
      "250\t-137.0325469970703\n",
      "260\t-137.02960205078125\n",
      "270\t-137.02688598632812\n",
      "280\t-137.0243682861328\n",
      "290\t-137.02203369140625\n",
      "300\t-137.01983642578125\n",
      "310\t-137.01780700683594\n",
      "320\t-137.01589965820312\n",
      "330\t-137.0141143798828\n",
      "340\t-137.01242065429688\n",
      "350\t-137.01083374023438\n",
      "360\t-137.0093536376953\n",
      "370\t-137.0079345703125\n",
      "380\t-137.006591796875\n",
      "390\t-137.00534057617188\n",
      "400\t-137.00413513183594\n",
      "410\t-137.00299072265625\n",
      "420\t-137.00189208984375\n",
      "430\t-137.0008544921875\n",
      "440\t-136.9998779296875\n",
      "450\t-136.99893188476562\n",
      "460\t-136.99803161621094\n",
      "470\t-136.99716186523438\n",
      "480\t-136.996337890625\n",
      "490\t-136.99554443359375\n",
      "500\t-136.99476623535156\n",
      "510\t-136.99404907226562\n",
      "520\t-136.99334716796875\n",
      "530\t-136.99267578125\n",
      "540\t-136.99200439453125\n",
      "550\t-136.99139404296875\n",
      "560\t-136.99078369140625\n",
      "570\t-136.9901885986328\n",
      "580\t-136.9896240234375\n",
      "590\t-136.98910522460938\n",
      "600\t-136.9885711669922\n",
      "610\t-136.98805236816406\n",
      "620\t-136.987548828125\n",
      "630\t-136.98707580566406\n",
      "640\t-136.98663330078125\n",
      "650\t-136.98619079589844\n",
      "660\t-136.98573303222656\n",
      "670\t-136.98532104492188\n",
      "680\t-136.9849090576172\n",
      "690\t-136.98452758789062\n",
      "700\t-136.984130859375\n",
      "710\t-136.9837646484375\n",
      "720\t-136.9833984375\n",
      "730\t-136.9830322265625\n",
      "740\t-136.98269653320312\n",
      "750\t-136.98236083984375\n",
      "760\t-136.98204040527344\n",
      "770\t-136.9817352294922\n",
      "780\t-136.98141479492188\n",
      "790\t-136.98110961914062\n",
      "800\t-136.98081970214844\n",
      "810\t-136.98052978515625\n",
      "820\t-136.98025512695312\n",
      "830\t-136.97998046875\n",
      "840\t-136.97972106933594\n",
      "850\t-136.97946166992188\n",
      "860\t-136.97921752929688\n",
      "870\t-136.97894287109375\n",
      "880\t-136.9787139892578\n",
      "890\t-136.97848510742188\n",
      "900\t-136.97825622558594\n",
      "910\t-136.97802734375\n",
      "920\t-136.97781372070312\n",
      "930\t-136.97760009765625\n",
      "940\t-136.9773712158203\n",
      "950\t-136.9771728515625\n",
      "960\t-136.97695922851562\n",
      "970\t-136.9767608642578\n",
      "980\t-136.9765625\n",
      "990\t-136.97637939453125\n",
      "\n"
     ]
    }
   ],
   "source": [
    "x_loc = 5.\n",
    "x_log_scale = 0.\n",
    "\n",
    "step_size = 0.01\n",
    "\n",
    "for i in tqdm(range(1000)):\n",
    "\n",
    "    llh_val, (x_loc_grad, x_log_scale_grad) = llh_avg_val_and_grad(y, x_loc, x_log_scale)\n",
    "    x_loc += step_size * x_loc_grad\n",
    "    x_log_scale += step_size * x_log_scale_grad\n",
    "    if i % 10 == 0:\n",
    "        print('{}\\t{}'.format(i, llh_val))"
   ]
  },
  {
   "cell_type": "code",
   "execution_count": 7,
   "metadata": {},
   "outputs": [
    {
     "data": {
      "text/plain": [
       "(DeviceArray(0.098069, dtype=float32), DeviceArray(-0.06291761, dtype=float32))"
      ]
     },
     "execution_count": 7,
     "metadata": {},
     "output_type": "execute_result"
    }
   ],
   "source": [
    "x_loc, x_log_scale"
   ]
  },
  {
   "cell_type": "code",
   "execution_count": 9,
   "metadata": {},
   "outputs": [
    {
     "data": {
      "text/plain": [
       "<matplotlib.legend.Legend at 0x7f0a300423d0>"
      ]
     },
     "execution_count": 9,
     "metadata": {},
     "output_type": "execute_result"
    },
    {
     "data": {
      "image/png": "[encoded data removed]",
      "text/plain": [
       "<Figure size 504x504 with 1 Axes>"
      ]
     },
     "metadata": {
      "needs_background": "light"
     },
     "output_type": "display_data"
    }
   ],
   "source": [
    "figure(figsize=(7, 7))\n",
    "plot(true_beta, beta_loc, '.', label='Approximated Posterior Means')\n",
    "plot(true_beta, beta_loc + 2*jnp.exp(beta_log_scale), 'r.', label='Approximated Posterior $2\\sigma$ Error Bars')\n",
    "plot(true_beta, beta_loc - 2*jnp.exp(beta_log_scale), 'r.')\n",
    "plot_scale = 3\n",
    "plot([-plot_scale, plot_scale], [-plot_scale, plot_scale], 'k')\n",
    "xlabel('True beta')\n",
    "ylabel('Estimated beta')\n",
    "legend(loc='best')"
   ]
  },
  {
   "cell_type": "code",
   "execution_count": 12,
   "metadata": {},
   "outputs": [],
   "source": [
    "import numpy as np\n",
    "a = np.random.rand(32,10)\n",
    "b = np.random.rand(32,10)\n",
    "c = np.random.rand(3,10,10)"
   ]
  },
  {
   "cell_type": "code",
   "execution_count": 13,
   "metadata": {},
   "outputs": [
    {
     "data": {
      "text/plain": [
       "(3, 32, 10)"
      ]
     },
     "execution_count": 13,
     "metadata": {},
     "output_type": "execute_result"
    }
   ],
   "source": [
    "d = a@c\n",
    "d.shape"
   ]
  },
  {
   "cell_type": "code",
   "execution_count": 14,
   "metadata": {},
   "outputs": [
    {
     "data": {
      "text/plain": [
       "(3, 10, 10)"
      ]
     },
     "execution_count": 14,
     "metadata": {},
     "output_type": "execute_result"
    }
   ],
   "source": [
    "e = b.T@d\n",
    "e.shape"
   ]
  },
  {
   "cell_type": "code",
   "execution_count": null,
   "metadata": {},
   "outputs": [],
   "source": []
  }
 ],
 "metadata": {
  "kernelspec": {
   "display_name": "Python 3",
   "language": "python",
   "name": "python3"
  },
  "language_info": {
   "codemirror_mode": {
    "name": "ipython",
    "version": 3
   },
   "file_extension": ".py",
   "mimetype": "text/x-python",
   "name": "python",
   "nbconvert_exporter": "python",
   "pygments_lexer": "ipython3",
   "version": "3.7.8"
  }
 },
 "nbformat": 4,
 "nbformat_minor": 4
}
