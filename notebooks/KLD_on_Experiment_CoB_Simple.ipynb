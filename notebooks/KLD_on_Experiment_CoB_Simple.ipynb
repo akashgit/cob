{
 "cells": [
  {
   "cell_type": "code",
   "execution_count": 1,
   "metadata": {
    "colab": {
     "base_uri": "https://localhost:8080/"
    },
    "id": "zdgemk5nHdbL",
    "outputId": "a65eddf1-049b-416f-ce9e-296383a25c46"
   },
   "outputs": [
    {
     "name": "stdout",
     "output_type": "stream",
     "text": [
      "WARNING:tensorflow:\n",
      "The TensorFlow contrib module will not be included in TensorFlow 2.0.\n",
      "For more information, please see:\n",
      "  * https://github.com/tensorflow/community/blob/master/rfcs/20180907-contrib-sunset.md\n",
      "  * https://github.com/tensorflow/addons\n",
      "  * https://github.com/tensorflow/io (for I/O related ops)\n",
      "If you depend on functionality not listed there, please file an issue.\n",
      "\n",
      "1.15.0\n"
     ]
    }
   ],
   "source": [
    "import warnings\n",
    "warnings.filterwarnings('ignore')\n",
    "\n",
    "import tensorflow as tf\n",
    "# tf.keras.backend.set_floatx(\n",
    "#     'float32'\n",
    "# )\n",
    "import numpy as np\n",
    "import seaborn as sns; \n",
    "tfd = tf.contrib.distributions\n",
    "import imageio\n",
    "import glob\n",
    "import tensorflow_probability as tfp\n",
    "tfd = tfp.distributions\n",
    "from tqdm import tqdm_notebook as tqdm\n",
    "from scipy.stats import norm, uniform\n",
    "\n",
    "import matplotlib.pyplot as plt\n",
    "from mpl_toolkits.mplot3d import Axes3D\n",
    "slim = tf.contrib.slim\n",
    "from tqdm.notebook import tqdm\n",
    "\n",
    "tfk = tf.keras\n",
    "\n",
    "print(tf.__version__)"
   ]
  },
  {
   "cell_type": "code",
   "execution_count": 3,
   "metadata": {
    "id": "boCNTMt4BEiY"
   },
   "outputs": [],
   "source": [
    "tol = 1e-35\n",
    "bs = 500\n",
    "K = 3\n",
    "do = .8\n",
    "n_posterior_samples = 500\n",
    "\n",
    "def ratios_critic(x, prob = 1, reuse=False, training = True):\n",
    "    with tf.variable_scope('critic') as scope:\n",
    "      if reuse:\n",
    "        scope.reuse_variables()\n",
    "      x = tf.expand_dims(x,1)\n",
    "      h = slim.fully_connected(x, 100, activation_fn=tf.nn.softplus)\n",
    "      h = tf.nn.dropout(h,prob)\n",
    "      h = slim.fully_connected(h, 50, activation_fn=tf.nn.softplus)\n",
    "      h = tf.nn.dropout(h,prob)\n",
    "      log_d = slim.fully_connected(h, K, activation_fn=None)\n",
    "    return h #tf.squeeze(log_d)\n",
    "\n",
    "\n",
    "\n",
    "\n"
   ]
  },
  {
   "cell_type": "code",
   "execution_count": 4,
   "metadata": {
    "id": "lt5Ozzo0HrUj"
   },
   "outputs": [],
   "source": [
    "tf.reset_default_graph()\n",
    "tf.random.set_random_seed(40)\n",
    "\n",
    "# layer = tfk.layers.Dense(K, activation=None)\n",
    "\n",
    "layer = tfp.layers.DenseFlipout(K, activation=None)\n",
    "\n",
    "mu_1 = 0.\n",
    "mu_2 = 4.\n",
    "mu_3 = 4.\n",
    "scale_pq = .1\n",
    "scale_m = 2.\n",
    "lam = tf.placeholder('float',1)\n",
    "p = tfd.Normal(loc=mu_1, scale=scale_pq)\n",
    "q = tfd.Normal(loc=mu_2, scale=scale_pq)\n",
    "base = tfp.distributions.Cauchy(loc=mu_3, scale=scale_m)\n",
    "\n",
    "\n",
    "samples = base.sample([bs]) \n",
    "p_samples = p.sample([bs]) \n",
    "q_samples = q.sample([bs])\n",
    "m_samples = samples\n",
    "# m_samples = samples + (p_samples+q_samples)/2.\n",
    "m_samples2 = m_samples# samples[bs:]\n",
    "\n",
    "#Ratio by log of prob evaluated at samples from base\n",
    "log_ratio_p_q = p.log_prob(m_samples) - q.log_prob(m_samples)\n",
    "#KL from samples\n",
    "kld_from_samples = tf.reduce_mean(p.log_prob(p_samples) - q.log_prob(p_samples)) \n",
    "#KL from samples\n",
    "kld = p.kl_divergence(q)\n"
   ]
  },
  {
   "cell_type": "code",
   "execution_count": 11,
   "metadata": {
    "id": "QH5eP5NclBEf"
   },
   "outputs": [],
   "source": [
    "# Build 2 Discriminator Networks (one from noise input, one from generated samples)\n",
    "\n",
    "disc_real = layer(ratios_critic(p_samples, do))\n",
    "disc_fake = layer(ratios_critic(q_samples, do,reuse=True))\n",
    "disc_m = layer(ratios_critic(m_samples, do,reuse=True))\n",
    "# disc_m_gen = ratios_critic(m_samples2, do,reuse=True)\n",
    "\n",
    "# Build Loss\n",
    "# lab = np.eye(K)\n",
    "# a = np.tile(lab[0],bs)\n",
    "# b = np.tile(lab[1],bs)\n",
    "# c = np.tile(lab[2],bs)\n",
    "\n",
    "a = np.tile([1,0,0],bs)\n",
    "b = np.tile([0,1,0],bs)\n",
    "c = np.tile([0,0,1],bs)\n",
    "\n",
    "label_a = tf.reshape(a,[bs,K])\n",
    "label_b = tf.reshape(b,[bs,K])\n",
    "label_c = tf.reshape(c,[bs,K])\n",
    "\n",
    "\n",
    "disc_loss_1 = tf.reduce_mean(tf.nn.softmax_cross_entropy_with_logits(logits=disc_real, labels=label_a))\n",
    "disc_loss_2 = tf.reduce_mean(tf.nn.softmax_cross_entropy_with_logits(logits=disc_fake, labels=label_b))\n",
    "disc_loss_3 = tf.reduce_mean(tf.nn.softmax_cross_entropy_with_logits(logits=disc_m, labels=label_c))\n",
    "# disc_loss_4 = tf.reduce_mean(tf.nn.softmax_cross_entropy_with_logits(logits=disc_m_gen, labels=label_c))\n",
    "\n",
    "dloss = disc_loss_1 + disc_loss_2 + 1*disc_loss_3 #+ 0.5*disc_loss_4 \n",
    "dloss += sum(layer.losses)/1e+5\n",
    "# Define CoB DRE\n",
    "\n",
    "log_r_p_m = layer(ratios_critic(m_samples, reuse=True, training=False))\n",
    "log_r_p_from_m_direct = log_r_p_m \n",
    "\n",
    "#KL from samples\n",
    "ratio_logits = layer(ratios_critic(p_samples, reuse=True, training=False))\n",
    "kld_from_cob = tf.reduce_mean(ratio_logits[:,0] - ratio_logits[:,1]) \n",
    "\n",
    "enc_m = ratios_critic(m_samples, reuse=True, training=False)\n",
    "enc_p = ratios_critic(p_samples, reuse=True, training=False)\n",
    "\n",
    "t_vars = tf.trainable_variables()\n",
    "c_vars = [var for var in t_vars if 'critic' in var.name]\n",
    "\n",
    "c_optim = tf.train.AdamOptimizer(learning_rate=0.001, beta1=0.001, beta2=0.999).minimize(dloss, var_list=t_vars)\n",
    "\n",
    "init = tf.global_variables_initializer()\n",
    "# Start a new TF session\n",
    "sess = tf.Session()\n",
    "\n",
    "# Run the initializer\n",
    "sess.run(init)\n"
   ]
  },
  {
   "cell_type": "code",
   "execution_count": 12,
   "metadata": {
    "colab": {
     "base_uri": "https://localhost:8080/",
     "height": 297
    },
    "id": "c8oVgSoXEAv_",
    "outputId": "894251db-44ea-4d85-c35a-6ebb90642d4e"
   },
   "outputs": [
    {
     "data": {
      "application/vnd.jupyter.widget-view+json": {
       "model_id": "0c98be3d5fc246569dc366647dbcdfba",
       "version_major": 2,
       "version_minor": 0
      },
      "text/plain": [
       "HBox(children=(FloatProgress(value=0.0, max=26000.0), HTML(value='')))"
      ]
     },
     "metadata": {},
     "output_type": "display_data"
    },
    {
     "name": "stdout",
     "output_type": "stream",
     "text": [
      "\n"
     ]
    },
    {
     "data": {
      "text/plain": [
       "<matplotlib.legend.Legend at 0x7f5f0c164110>"
      ]
     },
     "execution_count": 12,
     "metadata": {},
     "output_type": "execute_result"
    },
    {
     "data": {
      "image/png": "[encoded data removed]",
      "text/plain": [
       "<Figure size 432x288 with 1 Axes>"
      ]
     },
     "metadata": {
      "needs_background": "light"
     },
     "output_type": "display_data"
    }
   ],
   "source": [
    "# Training\n",
    "loss2 = []\n",
    "pbar = (range(0,26000))\n",
    "for i in tqdm(pbar):\n",
    "    # Train\n",
    "    feed_dict = {}\n",
    "    l2,_ = sess.run([dloss, c_optim],feed_dict=feed_dict)\n",
    "    loss2.append(l2)\n",
    "\n",
    "fig = plt.figure()\n",
    "ax = plt.axes()\n",
    "plt.plot(loss2, label='CoB')\n",
    "ax.set_xlabel('Iterations' )\n",
    "ax.set_ylabel('Loss')\n",
    "plt.legend(loc='upper right')"
   ]
  },
  {
   "cell_type": "code",
   "execution_count": 13,
   "metadata": {
    "colab": {
     "base_uri": "https://localhost:8080/",
     "height": 337
    },
    "id": "08mK99A8IL2n",
    "outputId": "68f04d14-5cbb-4a37-fdff-ad5128d942d8"
   },
   "outputs": [
    {
     "name": "stdout",
     "output_type": "stream",
     "text": [
      "KL :  799.99994\n",
      "KL from samples :  803.2071\n",
      "KL from CoB:  829.72485\n"
     ]
    },
    {
     "data": {
      "text/plain": [
       "(-5.0, 5.0)"
      ]
     },
     "execution_count": 13,
     "metadata": {},
     "output_type": "execute_result"
    },
    {
     "data": {
      "image/png": "[encoded data removed]",
      "text/plain": [
       "<Figure size 432x288 with 1 Axes>"
      ]
     },
     "metadata": {
      "needs_background": "light"
     },
     "output_type": "display_data"
    }
   ],
   "source": [
    "# Sampling\n",
    "kl_ratio_store=[]\n",
    "log_ratio_store=[]\n",
    "log_r_p_from_m_direct_store=[]\n",
    "\n",
    "\n",
    "feed_dict = feed_dict\n",
    "kl_ratio, kl_cob, kl_ture, p_s, q_s, d_s, m_s, lpq, lpq_from_cob_dre_direct= sess.run([kld_from_samples, kld_from_cob, kld,\n",
    "                                                                            p_samples, q_samples, enc_m, m_samples,\n",
    "                                                                            log_ratio_p_q,  log_r_p_from_m_direct],\n",
    "                                                                          feed_dict=feed_dict)\n",
    "print('KL : ',kl_ture)\n",
    "print('KL from samples : ',kl_ratio)\n",
    "print('KL from CoB: ', kl_cob)\n",
    "log_ratio_store.append(lpq)\n",
    "log_r_p_from_m_direct_store.append(lpq_from_cob_dre_direct)\n",
    "    \n",
    "fig, ax = plt.subplots(1, 1)\n",
    "ax.hist(p_s, density=True, histtype='stepfilled', alpha=0.8, label='P')\n",
    "ax.hist(q_s, density=True, histtype='stepfilled', alpha=0.8, label='Q')\n",
    "# ax.hist(d_s, density=True, histtype='stepfilled', alpha=0.8, label='M')\n",
    "ax.hist(m_s, density=True, histtype='stepfilled', alpha=0.8, label='M')\n",
    "ax.legend(loc='best', frameon=False)\n",
    "plt.xlim(-5,5)\n",
    "# plt.ylim(-400,800)"
   ]
  },
  {
   "cell_type": "code",
   "execution_count": 14,
   "metadata": {
    "colab": {
     "base_uri": "https://localhost:8080/",
     "height": 301
    },
    "id": "ja9hDBCPlg12",
    "outputId": "2830325e-dc2d-441d-875c-9e1b904a6200"
   },
   "outputs": [
    {
     "data": {
      "text/plain": [
       "(-400.0, 1000.0)"
      ]
     },
     "execution_count": 14,
     "metadata": {},
     "output_type": "execute_result"
    },
    {
     "data": {
      "image/png": "[encoded data removed]",
      "text/plain": [
       "<Figure size 432x288 with 1 Axes>"
      ]
     },
     "metadata": {
      "needs_background": "light"
     },
     "output_type": "display_data"
    }
   ],
   "source": [
    "xs = m_s\n",
    "plt.scatter(xs,log_ratio_store[0],label='True from log_prob',alpha=0.9,s=10.)\n",
    "plt.scatter(xs,log_r_p_from_m_direct_store[-1][:,0]-log_r_p_from_m_direct_store[-1][:,1],label='from CoB DRE Direct',alpha=0.9,s=10.)\n",
    "\n",
    "plt.xlabel(\"Samples\")\n",
    "plt.ylabel(\"Log Ratio\")\n",
    "plt.legend(loc='upper right')\n",
    "plt.xlim(-4,5)\n",
    "plt.ylim(-400,1000)"
   ]
  },
  {
   "cell_type": "code",
   "execution_count": 15,
   "metadata": {},
   "outputs": [
    {
     "data": {
      "text/plain": [
       "(-400.0, 1000.0)"
      ]
     },
     "execution_count": 15,
     "metadata": {},
     "output_type": "execute_result"
    },
    {
     "data": {
      "image/png": "[encoded data removed]",
      "text/plain": [
       "<Figure size 432x288 with 1 Axes>"
      ]
     },
     "metadata": {
      "needs_background": "light"
     },
     "output_type": "display_data"
    }
   ],
   "source": [
    "plt.scatter(xs,log_ratio_store[0],label='True p/q',alpha=0.9,s=10.,c='b')\n",
    "plt.scatter(xs,log_r_p_from_m_direct_store[-1][:,0]-log_r_p_from_m_direct_store[-1][:,1],label='CoB p/q',alpha=0.9,s=10.,c='r')\n",
    "plt.scatter(xs,-log_ratio_store[0],label='True q/p',alpha=0.9,s=10.,c='b')\n",
    "plt.scatter(xs,log_r_p_from_m_direct_store[-1][:,1]-log_r_p_from_m_direct_store[-1][:,0],label='CoB q/p',alpha=0.9,s=10.,c='r')\n",
    "\n",
    "plt.xlabel(\"Samples\")\n",
    "plt.ylabel(\"Log Ratio\")\n",
    "plt.legend(loc='lower right')\n",
    "plt.xlim(-4,6)\n",
    "plt.ylim(-400,1000)"
   ]
  },
  {
   "cell_type": "code",
   "execution_count": 9,
   "metadata": {
    "colab": {
     "base_uri": "https://localhost:8080/",
     "height": 297
    },
    "id": "gHtEC7YB-jah",
    "outputId": "a8388170-5916-46cf-be3d-9ebcc99368d7"
   },
   "outputs": [
    {
     "data": {
      "text/plain": [
       "(-4000.0, 400.0)"
      ]
     },
     "execution_count": 9,
     "metadata": {},
     "output_type": "execute_result"
    },
    {
     "data": {
      "image/png": "[encoded data removed]",
      "text/plain": [
       "<Figure size 432x288 with 1 Axes>"
      ]
     },
     "metadata": {
      "needs_background": "light"
     },
     "output_type": "display_data"
    }
   ],
   "source": [
    "rat = log_r_p_from_m_direct_store[-1][:,0]-log_r_p_from_m_direct_store[-1][:,1]\n",
    "d = [np.squeeze(norm.logpdf(x,mu_2,scale_pq)) for x in xs]\n",
    "b = [np.squeeze(norm.logpdf(x,mu_1,scale_pq)) for x in xs]\n",
    "\n",
    "plt.scatter(xs,b,label='True P',alpha=0.9,s=5.)\n",
    "# plt.scatter(xs,rat+d,label='P',alpha=0.9,s=5.)\n",
    "x_sorted = []\n",
    "r_sorted = []\n",
    "[(x_sorted.append(a),r_sorted.append(b)) for a,b in sorted(zip(xs,rat+d))]\n",
    "plt.plot(x_sorted, r_sorted, '-r.', label='line P',alpha=0.9)\n",
    "\n",
    "plt.xlabel(\"Samples\")\n",
    "plt.ylabel(\"Log P(x)\")\n",
    "plt.legend(loc='upper right')\n",
    "plt.xlim(-4.,4)\n",
    "plt.ylim(-4000,400)"
   ]
  },
  {
   "cell_type": "code",
   "execution_count": 10,
   "metadata": {
    "id": "sUI_JiMBXE64"
   },
   "outputs": [],
   "source": [
    "# helper function, mostly for plotting\n",
    "def log_ratio(w, b):\n",
    "  [x_] = sess.run([enc_m],feed_dict={})\n",
    "  return x_@w + b\n",
    "\n",
    "def log_ratio_predictive(w, b):\n",
    "  x_ = d_s\n",
    "  print(x_.shape)\n",
    "  print(w.shape)\n",
    "  pred = x_@w \n",
    "  # pred = np.transpose(pred,(1,0,2))+ b\n",
    "  pred = pred[0,:,:] - pred[1,:,:]\n",
    "  print(pred.shape)\n",
    "  return pred.mean(1), (pred).std(1)\n",
    "\n",
    "def log_ratio_predictive_p(w, b):\n",
    "  [x_] = sess.run([enc_p],feed_dict={})\n",
    "  print(x_.shape)\n",
    "  print(w.shape)\n",
    "  pred = x_@w \n",
    "  # pred = np.transpose(pred,(1,0,2))+ b\n",
    "  pred = pred[0,:,:] - pred[1,:,:]\n",
    "  print(pred.shape)\n",
    "  return pred.mean(1), (pred).std(1)"
   ]
  },
  {
   "cell_type": "code",
   "execution_count": 11,
   "metadata": {
    "colab": {
     "base_uri": "https://localhost:8080/",
     "height": 483
    },
    "id": "CBGq-0XIXFvv",
    "outputId": "bfb8b33d-2870-48bd-cd83-13adb9651f6a"
   },
   "outputs": [
    {
     "name": "stdout",
     "output_type": "stream",
     "text": [
      "Taking 500 samples from posterior distributions on weights\n",
      "\n",
      "Sampling complete. Samples are stored in numpy arrays:\n",
      "  weight: candidate_ws\n",
      "    bias: candidate_bs\n",
      "(500, 100)\n",
      "(3, 100, 500)\n",
      "(500, 500)\n",
      "(500,)\n",
      "Done\n"
     ]
    },
    {
     "data": {
      "text/plain": [
       "(-400.0, 1000.0)"
      ]
     },
     "execution_count": 11,
     "metadata": {},
     "output_type": "execute_result"
    },
    {
     "data": {
      "image/png": "[encoded data removed]",
      "text/plain": [
       "<Figure size 432x288 with 1 Axes>"
      ]
     },
     "metadata": {
      "needs_background": "light"
     },
     "output_type": "display_data"
    }
   ],
   "source": [
    "candidate_ws = []\n",
    "candidate_bs = []\n",
    "\n",
    "print(f\"Taking {n_posterior_samples} samples from posterior distributions on weights\\n\")\n",
    "\n",
    "w_draw = layer.kernel_posterior.sample()\n",
    "b_draw = layer.bias_posterior.sample()\n",
    "\n",
    "for mc in range(n_posterior_samples):\n",
    "    w_, b_ = sess.run([w_draw, b_draw])\n",
    "    candidate_ws.append(w_)\n",
    "    candidate_bs.append(b_)\n",
    "    \n",
    "print(\"Sampling complete. Samples are stored in numpy arrays:\")\n",
    "print(f\"  weight: candidate_ws\")\n",
    "print(f\"    bias: candidate_bs\")\n",
    "        \n",
    "candidate_ws = np.array(candidate_ws).astype(np.float32)\n",
    "candidate_bs = np.array(candidate_bs).astype(np.float32)\n",
    "# print(candidate_ws.shape)\n",
    "# candidate_ws = np.transpose(candidate_ws, (1,2,0))\n",
    "post_pred,post_std = log_ratio_predictive(candidate_ws.T, candidate_bs.T)\n",
    "print(post_pred.shape)\n",
    "# plt.plot(xs,post_pred,label='BC_Bayes_e',alpha=0.7)\n",
    "x_sorted = []\n",
    "m_sorted = []\n",
    "s_sorted = []\n",
    "[(x_sorted.append(a),m_sorted.append(b), s_sorted.append(c)) for a,b,c in sorted(zip(xs,post_pred, post_std))]\n",
    "print('Done')\n",
    "plt.plot(x_sorted, m_sorted,label='BC_Bayes_e',alpha=0.7)\n",
    "# plt.scatter(xs,post_pred,label='BC_Bayes_e',alpha=0.7,s=5.)\n",
    "plt.fill_between(x_sorted, np.asarray(m_sorted)-10*np.asarray(s_sorted), np.asarray(m_sorted)+10*np.asarray(s_sorted))\n",
    "\n",
    "plt.scatter(xs,norm.logpdf(xs,mu_1,scale_pq)-norm.logpdf(xs,mu_2,scale_pq),label='True log_prob',alpha=0.99,s=5.)\n",
    "\n",
    "plt.xlabel(\"Samples\")\n",
    "plt.ylabel(\"Log Ratio\")\n",
    "plt.legend(loc='upper right')\n",
    "plt.xlim(-4,4)\n",
    "plt.ylim(-400,1000)"
   ]
  },
  {
   "cell_type": "code",
   "execution_count": 12,
   "metadata": {
    "colab": {
     "base_uri": "https://localhost:8080/"
    },
    "id": "TKRJIoITkBi0",
    "outputId": "1afd3a59-a067-4de3-d1c4-900ecb57a109"
   },
   "outputs": [
    {
     "name": "stdout",
     "output_type": "stream",
     "text": [
      "KL :  199.99998\n",
      "(500, 100)\n",
      "(3, 100, 500)\n",
      "(500, 500)\n",
      "KL Post Pred:  202.23706\n"
     ]
    }
   ],
   "source": [
    "[true_kl] = sess.run([kld],feed_dict={})\n",
    "print('KL : ',true_kl)\n",
    "post_pred,post_std = log_ratio_predictive_p(candidate_ws.T, candidate_bs.T)\n",
    "spp = [x for _,x in sorted(zip(post_std,post_pred))]\n",
    "print('KL Post Pred: ', np.mean(spp[:500]))"
   ]
  },
  {
   "cell_type": "code",
   "execution_count": null,
   "metadata": {
    "id": "qjhbHCqE9nyi"
   },
   "outputs": [],
   "source": []
  }
 ],
 "metadata": {
  "accelerator": "GPU",
  "colab": {
   "collapsed_sections": [],
   "name": "KLD_on_Experiment_CoB_Simple.ipynb",
   "provenance": []
  },
  "kernelspec": {
   "display_name": "Python 3",
   "language": "python",
   "name": "python3"
  },
  "language_info": {
   "codemirror_mode": {
    "name": "ipython",
    "version": 3
   },
   "file_extension": ".py",
   "mimetype": "text/x-python",
   "name": "python",
   "nbconvert_exporter": "python",
   "pygments_lexer": "ipython3",
   "version": "3.7.8"
  }
 },
 "nbformat": 4,
 "nbformat_minor": 4
}
