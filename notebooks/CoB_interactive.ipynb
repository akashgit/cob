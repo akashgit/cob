{
 "cells": [
  {
   "cell_type": "code",
   "execution_count": 1,
   "metadata": {
    "colab": {
     "base_uri": "https://localhost:8080/"
    },
    "id": "zdgemk5nHdbL",
    "outputId": "332d9159-5b7e-488d-cdf1-803b67f11603"
   },
   "outputs": [
    {
     "name": "stdout",
     "output_type": "stream",
     "text": [
      "WARNING:tensorflow:\n",
      "The TensorFlow contrib module will not be included in TensorFlow 2.0.\n",
      "For more information, please see:\n",
      "  * https://github.com/tensorflow/community/blob/master/rfcs/20180907-contrib-sunset.md\n",
      "  * https://github.com/tensorflow/addons\n",
      "  * https://github.com/tensorflow/io (for I/O related ops)\n",
      "If you depend on functionality not listed there, please file an issue.\n",
      "\n",
      "1.15.0\n"
     ]
    }
   ],
   "source": [
    "%load_ext autoreload\n",
    "%autoreload 2\n",
    "%matplotlib inline\n",
    "import warnings\n",
    "warnings.filterwarnings('ignore')\n",
    "from IPython.display import display, clear_output\n",
    "from time import sleep\n",
    "from livelossplot import PlotLosses\n",
    "import tensorflow as tf\n",
    "import tensorflow.keras.initializers as initializers\n",
    "import numpy as np\n",
    "import seaborn as sns; \n",
    "import imageio\n",
    "import glob\n",
    "import tensorflow_probability as tfp\n",
    "tfd = tfp.distributions\n",
    "from scipy.stats import norm, uniform\n",
    "from scipy.special import softmax\n",
    "import sys\n",
    "import matplotlib.pyplot as plt\n",
    "from mpl_toolkits.mplot3d import Axes3D\n",
    "slim = tf.contrib.slim\n",
    "from tqdm.notebook import tqdm\n",
    "import sys\n",
    "from scipy.linalg import block_diag\n",
    "sys.path.append('../models/')\n",
    "sys.path.append('../')\n",
    "from ratio_utils_highdim import *\n",
    "tf.keras.backend.set_floatx('float32')\n",
    "print(tf.__version__)"
   ]
  },
  {
   "cell_type": "code",
   "execution_count": 76,
   "metadata": {},
   "outputs": [
    {
     "data": {
      "text/plain": [
       "<matplotlib.legend.Legend at 0x7f9c79b6b190>"
      ]
     },
     "execution_count": 76,
     "metadata": {},
     "output_type": "execute_result"
    },
    {
     "data": {
      "image/png": "[encoded data removed]",
      "text/plain": [
       "<Figure size 936x288 with 1 Axes>"
      ]
     },
     "metadata": {
      "needs_background": "light"
     },
     "output_type": "display_data"
    }
   ],
   "source": [
    "p_s = np.random.normal(0.,.01,1000)\n",
    "q_s = np.random.normal(0,.2,1000)\n",
    "\n",
    "m_s = np.concatenate([np.random.normal(0.,.01,900),np.random.normal(0.,.1,100)],0)\n",
    "\n",
    "# alphas = np.random.uniform(0.9,1,size=1000)\n",
    "# m_s = [alpha*p + (1-alpha)*q for (alpha,p,q) in zip(alphas,p_s,q_s)] + p_s_h\n",
    "# m_s = [np.sqrt(1-alpha**2)*p + (alpha)*q for (alpha,p,q) in zip(alphas,p_s,q_s)]\n",
    "# m_s = np.sqrt(1-(.5)**2)*p_s + q_s*(.5)\n",
    "fig, ax = plt.subplots(1, 1,figsize=(13,4))\n",
    "ax.hist(p_s, density=True, histtype='stepfilled', alpha=0.8, label='P')\n",
    "ax.hist(q_s, density=True, histtype='stepfilled', alpha=0.8, label='Q')\n",
    "ax.hist(m_s, density=True, histtype='stepfilled', alpha=0.8, label='M')\n",
    "ax.legend(loc='best', frameon=False)"
   ]
  },
  {
   "cell_type": "code",
   "execution_count": 96,
   "metadata": {},
   "outputs": [
    {
     "name": "stdout",
     "output_type": "stream",
     "text": [
      "0.7950600976206501\n",
      "(100000, 320)\n"
     ]
    }
   ],
   "source": [
    "n_dims = 320\n",
    "num_samples=100000\n",
    "mi = 80\n",
    "bs=1000\n",
    "N=400\n",
    "deep=False\n",
    "reset(4)\n",
    "\n",
    "def get_rho_from_mi(mi, n_dims):\n",
    "    \"\"\"Get correlation coefficient from true mutual information\"\"\"\n",
    "    x = (4 * mi) / n_dims\n",
    "    return (1 - np.exp(-x)) ** 0.5  # correlation coefficient\n",
    "        \n",
    "def get_data(mu_1=0.,mu_2=2.,mu_3=2.,scale_p=0.1,scale_q=0.1,scale_m=1.):\n",
    "    \n",
    "    p = tfd.MultivariateNormalFullCovariance(\n",
    "        loc=mu_1,\n",
    "        covariance_matrix=scale_p)\n",
    "    \n",
    "    q = tfd.MultivariateNormalDiag(\n",
    "        loc=mu_2,\n",
    "        scale_diag=scale_q)\n",
    "      \n",
    "    m = tfp.distributions.Mixture(\n",
    "          cat=tfp.distributions.Categorical(probs=[.5,.5]),\n",
    "          components=[\n",
    "            p,\n",
    "            q, \n",
    "        ])\n",
    "    \n",
    "#     m = tfp.distributions.MultivariateStudentTLinearOperator(\n",
    "#     df=1.,\n",
    "#     loc=mu_2,\n",
    "#     scale=tf.linalg.LinearOperatorLowerTriangular(scale_m))\n",
    "    \n",
    "    p_samples_ = p.sample([num_samples]) \n",
    "    q_samples_ = q.sample([num_samples])\n",
    "    alpha = tf.expand_dims(tfd.Uniform (0.15,0.83).sample([num_samples]),1) #).15, 0.83\n",
    "    \n",
    "    \n",
    "    alpha = tf.expand_dims(tf.reshape(tf.repeat([0.,0.25,0.5,.75,1.],num_samples//5),[num_samples]),1)\n",
    "# #     alpha = tf.expand_dims(tf.reshape(tf.repeat([0.0,.15,.25,.35,.45,.55,.55,.75,.85,1.],num_samples//10),[num_samples]),1)\n",
    "#     m_samples_ = p_samples_ + q_samples_ # \n",
    "    m_samples_ = (1-alpha)*p_samples_ + alpha*q_samples_ \n",
    "    \n",
    "#     m_samples_ = m.sample([num_samples])\n",
    "    \n",
    "    with tf.Session() as sess:\n",
    "        p_,q_,m_ = sess.run([p_samples_, q_samples_, m_samples_],feed_dict={})\n",
    "        sess.close() \n",
    "    \n",
    "    return p, q, m, p_,q_,m_\n",
    "\n",
    "# Define data param\n",
    "rho = get_rho_from_mi(mi, n_dims)  # correlation coefficient\n",
    "print(rho)\n",
    "rhos = np.ones(n_dims // 2, dtype=\"float32\") * rho\n",
    "\n",
    "mu_1=0.+np.zeros((n_dims), dtype=\"float32\")\n",
    "mu_2=0.+np.zeros((n_dims), dtype=\"float32\")\n",
    "mu_3=np.zeros((n_dims), dtype=\"float32\")\n",
    "\n",
    "scale_p = block_diag(*[[[1, rho], [rho, 1]] for _ in range(n_dims // 2)])\n",
    "scale_p = np.float32(scale_p)\n",
    "scale_q = np.ones(n_dims, dtype=\"float32\")\n",
    "scale_m = 1*np.eye(n_dims, dtype=\"float32\")\n",
    "\n",
    "# Generate dataset\n",
    "p, q, m, p_list, q_list, m_list = get_data(mu_1,mu_2,mu_3,scale_p,scale_q,scale_m)\n",
    "_, _, _, p_list_test, _, m_list_test = get_data(mu_1,mu_2,mu_3,scale_p,scale_q,scale_m)\n",
    "\n",
    "print(p_list.shape)"
   ]
  },
  {
   "cell_type": "code",
   "execution_count": 97,
   "metadata": {},
   "outputs": [
    {
     "name": "stdout",
     "output_type": "stream",
     "text": [
      "-1.3692386\n"
     ]
    },
    {
     "data": {
      "image/png": "[encoded data removed]",
      "text/plain": [
       "<Figure size 1152x288 with 5 Axes>"
      ]
     },
     "metadata": {},
     "output_type": "display_data"
    },
    {
     "ename": "KeyboardInterrupt",
     "evalue": "",
     "output_type": "error",
     "traceback": [
      "\u001b[0;31m---------------------------------------------------------------------------\u001b[0m",
      "\u001b[0;31mKeyboardInterrupt\u001b[0m                         Traceback (most recent call last)",
      "\u001b[0;32m<ipython-input-97-ccc841c8644e>\u001b[0m in \u001b[0;36m<module>\u001b[0;34m\u001b[0m\n\u001b[1;32m    130\u001b[0m \u001b[0;34m\u001b[0m\u001b[0m\n\u001b[1;32m    131\u001b[0m             \u001b[0mdisplay\u001b[0m\u001b[0;34m(\u001b[0m\u001b[0mfig\u001b[0m\u001b[0;34m)\u001b[0m\u001b[0;34m\u001b[0m\u001b[0;34m\u001b[0m\u001b[0m\n\u001b[0;32m--> 132\u001b[0;31m         \u001b[0ml\u001b[0m\u001b[0;34m,\u001b[0m\u001b[0m_\u001b[0m \u001b[0;34m=\u001b[0m \u001b[0msess\u001b[0m\u001b[0;34m.\u001b[0m\u001b[0mrun\u001b[0m\u001b[0;34m(\u001b[0m\u001b[0;34m[\u001b[0m\u001b[0mdloss\u001b[0m\u001b[0;34m,\u001b[0m \u001b[0moptim\u001b[0m\u001b[0;34m]\u001b[0m\u001b[0;34m,\u001b[0m\u001b[0mfeed_dict\u001b[0m\u001b[0;34m=\u001b[0m\u001b[0mfeed_dict\u001b[0m\u001b[0;34m)\u001b[0m\u001b[0;34m\u001b[0m\u001b[0;34m\u001b[0m\u001b[0m\n\u001b[0m\u001b[1;32m    133\u001b[0m         \u001b[0mloss_store\u001b[0m\u001b[0;34m.\u001b[0m\u001b[0mappend\u001b[0m\u001b[0;34m(\u001b[0m\u001b[0ml\u001b[0m\u001b[0;34m)\u001b[0m\u001b[0;34m\u001b[0m\u001b[0;34m\u001b[0m\u001b[0m\n\u001b[1;32m    134\u001b[0m \u001b[0;34m\u001b[0m\u001b[0m\n",
      "\u001b[0;32m/disk_c/akash/anaconda/envs/iclr/lib/python3.7/site-packages/tensorflow_core/python/client/session.py\u001b[0m in \u001b[0;36mrun\u001b[0;34m(self, fetches, feed_dict, options, run_metadata)\u001b[0m\n\u001b[1;32m    954\u001b[0m     \u001b[0;32mtry\u001b[0m\u001b[0;34m:\u001b[0m\u001b[0;34m\u001b[0m\u001b[0;34m\u001b[0m\u001b[0m\n\u001b[1;32m    955\u001b[0m       result = self._run(None, fetches, feed_dict, options_ptr,\n\u001b[0;32m--> 956\u001b[0;31m                          run_metadata_ptr)\n\u001b[0m\u001b[1;32m    957\u001b[0m       \u001b[0;32mif\u001b[0m \u001b[0mrun_metadata\u001b[0m\u001b[0;34m:\u001b[0m\u001b[0;34m\u001b[0m\u001b[0;34m\u001b[0m\u001b[0m\n\u001b[1;32m    958\u001b[0m         \u001b[0mproto_data\u001b[0m \u001b[0;34m=\u001b[0m \u001b[0mtf_session\u001b[0m\u001b[0;34m.\u001b[0m\u001b[0mTF_GetBuffer\u001b[0m\u001b[0;34m(\u001b[0m\u001b[0mrun_metadata_ptr\u001b[0m\u001b[0;34m)\u001b[0m\u001b[0;34m\u001b[0m\u001b[0;34m\u001b[0m\u001b[0m\n",
      "\u001b[0;32m/disk_c/akash/anaconda/envs/iclr/lib/python3.7/site-packages/tensorflow_core/python/client/session.py\u001b[0m in \u001b[0;36m_run\u001b[0;34m(self, handle, fetches, feed_dict, options, run_metadata)\u001b[0m\n\u001b[1;32m   1178\u001b[0m     \u001b[0;32mif\u001b[0m \u001b[0mfinal_fetches\u001b[0m \u001b[0;32mor\u001b[0m \u001b[0mfinal_targets\u001b[0m \u001b[0;32mor\u001b[0m \u001b[0;34m(\u001b[0m\u001b[0mhandle\u001b[0m \u001b[0;32mand\u001b[0m \u001b[0mfeed_dict_tensor\u001b[0m\u001b[0;34m)\u001b[0m\u001b[0;34m:\u001b[0m\u001b[0;34m\u001b[0m\u001b[0;34m\u001b[0m\u001b[0m\n\u001b[1;32m   1179\u001b[0m       results = self._do_run(handle, final_targets, final_fetches,\n\u001b[0;32m-> 1180\u001b[0;31m                              feed_dict_tensor, options, run_metadata)\n\u001b[0m\u001b[1;32m   1181\u001b[0m     \u001b[0;32melse\u001b[0m\u001b[0;34m:\u001b[0m\u001b[0;34m\u001b[0m\u001b[0;34m\u001b[0m\u001b[0m\n\u001b[1;32m   1182\u001b[0m       \u001b[0mresults\u001b[0m \u001b[0;34m=\u001b[0m \u001b[0;34m[\u001b[0m\u001b[0;34m]\u001b[0m\u001b[0;34m\u001b[0m\u001b[0;34m\u001b[0m\u001b[0m\n",
      "\u001b[0;32m/disk_c/akash/anaconda/envs/iclr/lib/python3.7/site-packages/tensorflow_core/python/client/session.py\u001b[0m in \u001b[0;36m_do_run\u001b[0;34m(self, handle, target_list, fetch_list, feed_dict, options, run_metadata)\u001b[0m\n\u001b[1;32m   1357\u001b[0m     \u001b[0;32mif\u001b[0m \u001b[0mhandle\u001b[0m \u001b[0;32mis\u001b[0m \u001b[0;32mNone\u001b[0m\u001b[0;34m:\u001b[0m\u001b[0;34m\u001b[0m\u001b[0;34m\u001b[0m\u001b[0m\n\u001b[1;32m   1358\u001b[0m       return self._do_call(_run_fn, feeds, fetches, targets, options,\n\u001b[0;32m-> 1359\u001b[0;31m                            run_metadata)\n\u001b[0m\u001b[1;32m   1360\u001b[0m     \u001b[0;32melse\u001b[0m\u001b[0;34m:\u001b[0m\u001b[0;34m\u001b[0m\u001b[0;34m\u001b[0m\u001b[0m\n\u001b[1;32m   1361\u001b[0m       \u001b[0;32mreturn\u001b[0m \u001b[0mself\u001b[0m\u001b[0;34m.\u001b[0m\u001b[0m_do_call\u001b[0m\u001b[0;34m(\u001b[0m\u001b[0m_prun_fn\u001b[0m\u001b[0;34m,\u001b[0m \u001b[0mhandle\u001b[0m\u001b[0;34m,\u001b[0m \u001b[0mfeeds\u001b[0m\u001b[0;34m,\u001b[0m \u001b[0mfetches\u001b[0m\u001b[0;34m)\u001b[0m\u001b[0;34m\u001b[0m\u001b[0;34m\u001b[0m\u001b[0m\n",
      "\u001b[0;32m/disk_c/akash/anaconda/envs/iclr/lib/python3.7/site-packages/tensorflow_core/python/client/session.py\u001b[0m in \u001b[0;36m_do_call\u001b[0;34m(self, fn, *args)\u001b[0m\n\u001b[1;32m   1363\u001b[0m   \u001b[0;32mdef\u001b[0m \u001b[0m_do_call\u001b[0m\u001b[0;34m(\u001b[0m\u001b[0mself\u001b[0m\u001b[0;34m,\u001b[0m \u001b[0mfn\u001b[0m\u001b[0;34m,\u001b[0m \u001b[0;34m*\u001b[0m\u001b[0margs\u001b[0m\u001b[0;34m)\u001b[0m\u001b[0;34m:\u001b[0m\u001b[0;34m\u001b[0m\u001b[0;34m\u001b[0m\u001b[0m\n\u001b[1;32m   1364\u001b[0m     \u001b[0;32mtry\u001b[0m\u001b[0;34m:\u001b[0m\u001b[0;34m\u001b[0m\u001b[0;34m\u001b[0m\u001b[0m\n\u001b[0;32m-> 1365\u001b[0;31m       \u001b[0;32mreturn\u001b[0m \u001b[0mfn\u001b[0m\u001b[0;34m(\u001b[0m\u001b[0;34m*\u001b[0m\u001b[0margs\u001b[0m\u001b[0;34m)\u001b[0m\u001b[0;34m\u001b[0m\u001b[0;34m\u001b[0m\u001b[0m\n\u001b[0m\u001b[1;32m   1366\u001b[0m     \u001b[0;32mexcept\u001b[0m \u001b[0merrors\u001b[0m\u001b[0;34m.\u001b[0m\u001b[0mOpError\u001b[0m \u001b[0;32mas\u001b[0m \u001b[0me\u001b[0m\u001b[0;34m:\u001b[0m\u001b[0;34m\u001b[0m\u001b[0;34m\u001b[0m\u001b[0m\n\u001b[1;32m   1367\u001b[0m       \u001b[0mmessage\u001b[0m \u001b[0;34m=\u001b[0m \u001b[0mcompat\u001b[0m\u001b[0;34m.\u001b[0m\u001b[0mas_text\u001b[0m\u001b[0;34m(\u001b[0m\u001b[0me\u001b[0m\u001b[0;34m.\u001b[0m\u001b[0mmessage\u001b[0m\u001b[0;34m)\u001b[0m\u001b[0;34m\u001b[0m\u001b[0;34m\u001b[0m\u001b[0m\n",
      "\u001b[0;32m/disk_c/akash/anaconda/envs/iclr/lib/python3.7/site-packages/tensorflow_core/python/client/session.py\u001b[0m in \u001b[0;36m_run_fn\u001b[0;34m(feed_dict, fetch_list, target_list, options, run_metadata)\u001b[0m\n\u001b[1;32m   1348\u001b[0m       \u001b[0mself\u001b[0m\u001b[0;34m.\u001b[0m\u001b[0m_extend_graph\u001b[0m\u001b[0;34m(\u001b[0m\u001b[0;34m)\u001b[0m\u001b[0;34m\u001b[0m\u001b[0;34m\u001b[0m\u001b[0m\n\u001b[1;32m   1349\u001b[0m       return self._call_tf_sessionrun(options, feed_dict, fetch_list,\n\u001b[0;32m-> 1350\u001b[0;31m                                       target_list, run_metadata)\n\u001b[0m\u001b[1;32m   1351\u001b[0m \u001b[0;34m\u001b[0m\u001b[0m\n\u001b[1;32m   1352\u001b[0m     \u001b[0;32mdef\u001b[0m \u001b[0m_prun_fn\u001b[0m\u001b[0;34m(\u001b[0m\u001b[0mhandle\u001b[0m\u001b[0;34m,\u001b[0m \u001b[0mfeed_dict\u001b[0m\u001b[0;34m,\u001b[0m \u001b[0mfetch_list\u001b[0m\u001b[0;34m)\u001b[0m\u001b[0;34m:\u001b[0m\u001b[0;34m\u001b[0m\u001b[0;34m\u001b[0m\u001b[0m\n",
      "\u001b[0;32m/disk_c/akash/anaconda/envs/iclr/lib/python3.7/site-packages/tensorflow_core/python/client/session.py\u001b[0m in \u001b[0;36m_call_tf_sessionrun\u001b[0;34m(self, options, feed_dict, fetch_list, target_list, run_metadata)\u001b[0m\n\u001b[1;32m   1441\u001b[0m     return tf_session.TF_SessionRun_wrapper(self._session, options, feed_dict,\n\u001b[1;32m   1442\u001b[0m                                             \u001b[0mfetch_list\u001b[0m\u001b[0;34m,\u001b[0m \u001b[0mtarget_list\u001b[0m\u001b[0;34m,\u001b[0m\u001b[0;34m\u001b[0m\u001b[0;34m\u001b[0m\u001b[0m\n\u001b[0;32m-> 1443\u001b[0;31m                                             run_metadata)\n\u001b[0m\u001b[1;32m   1444\u001b[0m \u001b[0;34m\u001b[0m\u001b[0m\n\u001b[1;32m   1445\u001b[0m   \u001b[0;32mdef\u001b[0m \u001b[0m_call_tf_sessionprun\u001b[0m\u001b[0;34m(\u001b[0m\u001b[0mself\u001b[0m\u001b[0;34m,\u001b[0m \u001b[0mhandle\u001b[0m\u001b[0;34m,\u001b[0m \u001b[0mfeed_dict\u001b[0m\u001b[0;34m,\u001b[0m \u001b[0mfetch_list\u001b[0m\u001b[0;34m)\u001b[0m\u001b[0;34m:\u001b[0m\u001b[0;34m\u001b[0m\u001b[0;34m\u001b[0m\u001b[0m\n",
      "\u001b[0;31mKeyboardInterrupt\u001b[0m: "
     ]
    },
    {
     "data": {
      "image/png": "[encoded data removed]",
      "text/plain": [
       "<Figure size 1152x288 with 5 Axes>"
      ]
     },
     "metadata": {
      "needs_background": "light"
     },
     "output_type": "display_data"
    }
   ],
   "source": [
    "p_samples = tf.placeholder(tf.float32, shape=[None,n_dims])\n",
    "q_samples = tf.placeholder(tf.float32, shape=[None,n_dims])\n",
    "m_samples = tf.placeholder(tf.float32, shape=[None,n_dims])\n",
    "\n",
    "dloss = get_loss(p_samples, q_samples, m_samples, None, deep=deep)\n",
    "optim = get_optim(dloss,lr=1e-4)#,lr=5e-3,b1=.99\n",
    "\n",
    "log_ratio_p_q, _ = get_gt_ratio_kl(p,q,p_samples)\n",
    "_, kl_from_pq = get_gt_ratio_kl(p,q,p_samples)\n",
    "kl_from_cob = get_kl_from_cob(p_samples, q_samples)\n",
    "\n",
    "log_ratio_p_m = get_log_ratio(p_samples) #tf.nn.softmax(get_logits(p_samples,deep=deep, training=False))\n",
    "# logit_q = get_logits(q_samples,deep=deep, training=False)\n",
    "# logit_m = get_logits(m_samples,deep=deep, training=False)\n",
    "\n",
    "init = tf.global_variables_initializer()\n",
    "sess = tf.Session()\n",
    "sess.run(init)\n",
    "[kl_gt] = sess.run([p.kl_divergence(q)],feed_dict={})\n",
    "\n",
    "fig, [ax1,ax2,ax3,ax4,ax5] = plt.subplots(1, 5,figsize=(16,4))\n",
    "\n",
    "line, = ax1.plot([0,1],[0,1])\n",
    "test_line, = ax4.plot([0,1],[0,1],label='Test Loss')\n",
    "test_line1, = ax4.plot([0,1],[0,1],label='Train Loss')\n",
    "kld_line, = ax3.plot([0],[0],label='GT KLD: '+str(kl_gt))\n",
    "x, y = np.random.random((2, 500))\n",
    "np.random.randint\n",
    "scat = ax2.scatter(x,y,label='GT LR vs CoB ',alpha=0.9,s=10.,c='r')\n",
    "\n",
    "scat_p = ax5.scatter(range(bs),np.random.randint(0,2,bs),label='P',alpha=0.9,s=10.,c='r')\n",
    "scat_q = ax5.scatter(range(bs),np.random.randint(0,2,bs),label='Q',alpha=0.6,s=10.,c='g')\n",
    "scat_m = ax5.scatter(range(bs),np.random.randint(0,2,bs),label='M',alpha=0.4,s=10.,c='b')\n",
    "\n",
    "ax1.set_xlabel(\"Iteration\")\n",
    "ax1.set_ylabel(\"Train Loss\")\n",
    "ax1.set_xlim([0,N*(num_samples//bs)])\n",
    "ax1.set_ylim([-5,10])\n",
    "\n",
    "ax2.set_xlabel(\"Log Ratio\")\n",
    "ax2.set_ylabel(\"Log Ratio CoB\")\n",
    "ax2.legend(loc='best')\n",
    "\n",
    "ax3.set_ylabel(\"KLD\")\n",
    "ax3.legend(loc='best')\n",
    "\n",
    "ax4.set_xlabel(\"Iteration\")\n",
    "ax4.set_ylabel(\"Test Loss\")\n",
    "ax4.set_xlim([0,N//50])\n",
    "ax4.set_ylim([-5,10])\n",
    "ax4.legend(loc='best')\n",
    "\n",
    "ax5.set_xlabel(\"Class\")\n",
    "ax5.set_ylabel(\"Samples\")\n",
    "ax5.legend(loc='best')\n",
    "\n",
    "\n",
    "plt.tight_layout()\n",
    "loss_store=[]\n",
    "test_loss_store=[]\n",
    "test_loss_store1=[]\n",
    "kld_store=[]\n",
    "pbar = range(0,N)\n",
    "for j in pbar:\n",
    "    for i in range(num_samples//bs):\n",
    "        ps = p_list[np.random.choice(range(len(p_list)),bs)]\n",
    "        qs = q_list[np.random.choice(range(len(q_list)),bs)]\n",
    "        ms = m_list[np.random.choice(range(len(m_list)),bs)]\n",
    "        feed_dict = {p_samples:ps, q_samples:qs, m_samples:ms}\n",
    "        \n",
    "        [l] = sess.run([dloss],feed_dict=feed_dict)\n",
    "        loss_store.append(l)\n",
    "        \n",
    "        if i%100==0:\n",
    "            line.set_data(range(len(loss_store)), loss_store)\n",
    "            ax1.set_xlim( 0, len(loss_store) )\n",
    "            \n",
    "            ps = p_list_test[np.random.choice(range(len(p_list_test)),bs)]\n",
    "            qs = q_list[np.random.choice(range(len(q_list)),bs)]\n",
    "            ms = m_list_test[np.random.choice(range(len(m_list_test)),bs)]\n",
    "            feed_dict = {p_samples:ps, q_samples:qs, m_samples:ms}\n",
    "            \n",
    "            testl, lpq, lpqm, kl_cob = sess.run([dloss, log_ratio_p_q, log_ratio_p_m, kl_from_cob],feed_dict=feed_dict)\n",
    "            kld_store.append(kl_cob)\n",
    "            test_loss_store.append(testl)\n",
    "            test_loss_store1.append(l)\n",
    "#             cob = np.log([max(1e-10,n_[0]/n_[1]) for n_ in lpqm])\n",
    "        \n",
    "            cob=np.squeeze(lpqm)\n",
    "            scat.set_offsets(np.asarray([lpq,cob]).T)\n",
    "            ax2.set_xlim( lpq.min(), lpq.max() )\n",
    "#             ax2.set_ylim( lpq.min()-30, lpq.max()+10 )\n",
    "            ax2.set_ylim( cob.min(), cob.max()+10 )\n",
    "\n",
    "            kld_line.set_data(range(len(kld_store)),kld_store)\n",
    "            ax3.set_xlim( 0, len(kld_store) )\n",
    "            ax3.set_ylim( 0, kl_gt+50 )\n",
    "#             ax3.set_ylim( 0, min(max(kld_store),500) )\n",
    "            \n",
    "            test_line1.set_data(range(len(test_loss_store1)), test_loss_store1)\n",
    "            test_line.set_data(range(len(test_loss_store)), test_loss_store)\n",
    "            ax4.set_xlim( 0, len(test_loss_store) )\n",
    "            \n",
    "            \n",
    "            \n",
    "#             scat_p.set_offsets(np.asarray([range(bs),lpqm[:,0]]).T)\n",
    "#             scat_q.set_offsets(np.asarray([range(bs),softmax(l_q, axis=1)[:,1]]).T)\n",
    "#             scat_m.set_offsets(np.asarray([range(bs),softmax(l_m, axis=1)[:,2]]).T)\n",
    "            \n",
    "             \n",
    "            \n",
    "            clear_output(wait=True)\n",
    "            \n",
    "            print(cob.min())\n",
    "            \n",
    "#             sp = np.mean(lpqm[:,0])\n",
    "#             sq = np.mean(softmax(l_q, axis=1)[:,1])\n",
    "#             sm = np.mean(softmax(l_m, axis=1)[:,2])\n",
    "#             print(sp)\n",
    "#             print(sq)\n",
    "#             print(sm)\n",
    "            \n",
    "#             print(np.mean(np.exp(lpqm[:,0])))\n",
    "#             print(np.mean(np.exp(l_q[:,1])))\n",
    "#             print(np.mean(np.exp(l_m[:,2])))\n",
    "            \n",
    "#             if ( sp>0.99 and sq > 0.99 and sm>0.99 ):\n",
    "#                 sys.exit(0)\n",
    "                                                                                \n",
    "            \n",
    "            display(fig)\n",
    "        l,_ = sess.run([dloss, optim],feed_dict=feed_dict)\n",
    "        loss_store.append(l)\n",
    "\n",
    "\n",
    "# sample_and_plot(sess, kld, kl_from_pq, kl_from_cob, p_samples, q_samples, m_samples, log_ratio_p_q, log_ratio_p_m, mu_1, mu_2, scale_p, scale_q, mu_3, scale_m)\n",
    "\n",
    "\n",
    "\n",
    "    "
   ]
  },
  {
   "cell_type": "code",
   "execution_count": null,
   "metadata": {},
   "outputs": [],
   "source": [
    "np.mean(kld_store[:])"
   ]
  },
  {
   "cell_type": "code",
   "execution_count": 32,
   "metadata": {},
   "outputs": [
    {
     "data": {
      "text/plain": [
       "7.0587945"
      ]
     },
     "execution_count": 32,
     "metadata": {},
     "output_type": "execute_result"
    }
   ],
   "source": [
    "np.std(kld_store[-5:])"
   ]
  },
  {
   "cell_type": "code",
   "execution_count": 20,
   "metadata": {},
   "outputs": [],
   "source": [
    "def kl(m1, s1, m2, s2):\n",
    "    return np.log(s2)-np.log(s1)+(s1**2 + (m1-m2)**2)/(2*s2**2)-1/2"
   ]
  },
  {
   "cell_type": "code",
   "execution_count": 122,
   "metadata": {},
   "outputs": [
    {
     "data": {
      "text/plain": [
       "[-2.4978073,\n",
       " -2.4948757,\n",
       " -2.4917202,\n",
       " -2.498714,\n",
       " -2.4976697,\n",
       " -2.4987798,\n",
       " -2.4978113,\n",
       " -2.4975638,\n",
       " -2.4982789,\n",
       " -2.498995]"
      ]
     },
     "execution_count": 122,
     "metadata": {},
     "output_type": "execute_result"
    }
   ],
   "source": [
    "test_loss_store1[-10:]"
   ]
  },
  {
   "cell_type": "code",
   "execution_count": 119,
   "metadata": {},
   "outputs": [
    {
     "data": {
      "text/plain": [
       "[1.6952966,\n",
       " 1.7798133,\n",
       " 6.550874,\n",
       " 10.017588,\n",
       " 12.17298,\n",
       " 14.352085,\n",
       " 16.17169,\n",
       " 18.041306,\n",
       " 17.702417,\n",
       " 19.946114,\n",
       " 20.63465,\n",
       " 20.95625,\n",
       " 20.54527,\n",
       " 21.880987,\n",
       " 24.040455,\n",
       " 24.780142,\n",
       " 24.890266,\n",
       " 25.527515,\n",
       " 26.07804,\n",
       " 27.07059,\n",
       " 26.679907,\n",
       " 27.299023,\n",
       " 26.557703,\n",
       " 27.433714,\n",
       " 28.051172,\n",
       " 28.561237,\n",
       " 28.262453,\n",
       " 30.629555,\n",
       " 29.070976,\n",
       " 31.974966,\n",
       " 29.31949,\n",
       " 32.383125,\n",
       " 31.212034,\n",
       " 33.517124,\n",
       " 33.771133,\n",
       " 33.55163,\n",
       " 33.708916,\n",
       " 35.198025,\n",
       " 34.98715,\n",
       " 34.456306,\n",
       " 36.69805,\n",
       " 36.828804,\n",
       " 36.502346,\n",
       " 35.674973,\n",
       " 35.432655,\n",
       " 36.853493,\n",
       " 39.247417,\n",
       " 35.482506,\n",
       " 42.147312,\n",
       " 39.38999,\n",
       " 37.164726,\n",
       " 38.53191,\n",
       " 41.551212,\n",
       " 37.21286,\n",
       " 39.971954,\n",
       " 40.222137,\n",
       " 44.02921,\n",
       " 41.79677,\n",
       " 38.419277,\n",
       " 40.47752,\n",
       " 46.408363,\n",
       " 45.1106,\n",
       " 45.12582,\n",
       " 41.578804,\n",
       " 46.832912,\n",
       " 42.55866,\n",
       " 45.49365,\n",
       " 45.438564,\n",
       " 45.075054,\n",
       " 45.43744,\n",
       " 48.52367,\n",
       " 45.402897,\n",
       " 44.995495,\n",
       " 45.400127,\n",
       " 44.754967,\n",
       " 47.406265,\n",
       " 45.208843,\n",
       " 47.779858,\n",
       " 44.411766,\n",
       " 49.34396,\n",
       " inf,\n",
       " 46.994503,\n",
       " 45.40825,\n",
       " 49.55635,\n",
       " 48.201313,\n",
       " 50.285374,\n",
       " 48.02398,\n",
       " 45.142174,\n",
       " 52.264683,\n",
       " inf,\n",
       " 51.5625,\n",
       " 49.45244,\n",
       " 52.03036,\n",
       " 48.161186,\n",
       " inf,\n",
       " inf,\n",
       " 51.61807,\n",
       " inf,\n",
       " inf,\n",
       " inf,\n",
       " inf,\n",
       " 55.353546,\n",
       " 52.513733,\n",
       " inf,\n",
       " 55.52051,\n",
       " inf,\n",
       " inf,\n",
       " 51.79153,\n",
       " inf,\n",
       " inf,\n",
       " inf,\n",
       " inf,\n",
       " inf,\n",
       " inf,\n",
       " inf,\n",
       " inf,\n",
       " inf,\n",
       " inf,\n",
       " inf,\n",
       " inf,\n",
       " inf,\n",
       " inf,\n",
       " inf,\n",
       " inf,\n",
       " inf,\n",
       " inf,\n",
       " inf,\n",
       " inf,\n",
       " inf,\n",
       " inf,\n",
       " inf,\n",
       " inf]"
      ]
     },
     "execution_count": 119,
     "metadata": {},
     "output_type": "execute_result"
    }
   ],
   "source": [
    "(kld_store)"
   ]
  },
  {
   "cell_type": "code",
   "execution_count": null,
   "metadata": {},
   "outputs": [],
   "source": []
  }
 ],
 "metadata": {
  "accelerator": "GPU",
  "colab": {
   "collapsed_sections": [],
   "name": "Experiment_CoB_Simple.ipynb",
   "provenance": []
  },
  "kernelspec": {
   "display_name": "Python 3",
   "language": "python",
   "name": "python3"
  },
  "language_info": {
   "codemirror_mode": {
    "name": "ipython",
    "version": 3
   },
   "file_extension": ".py",
   "mimetype": "text/x-python",
   "name": "python",
   "nbconvert_exporter": "python",
   "pygments_lexer": "ipython3",
   "version": "3.7.8"
  }
 },
 "nbformat": 4,
 "nbformat_minor": 4
}
